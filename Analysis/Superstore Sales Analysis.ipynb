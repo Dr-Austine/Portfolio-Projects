{
 "cells": [
  {
   "cell_type": "markdown",
   "id": "6585dae4",
   "metadata": {
    "vscode": {
     "languageId": "html"
    }
   },
   "source": [
    "# <span style=\"color:forestgreen\">Superstore Sales Analysis</span>"
   ]
  },
  {
   "cell_type": "markdown",
   "id": "8b92ff2b",
   "metadata": {},
   "source": [
    "## Exploring The Data"
   ]
  },
  {
   "cell_type": "code",
   "execution_count": 53,
   "id": "f3d126a2",
   "metadata": {},
   "outputs": [
    {
     "name": "stdout",
     "output_type": "stream",
     "text": [
      "Requirement already satisfied: kagglehub in c:\\users\\homepc\\anaconda3\\lib\\site-packages (0.3.12)\n",
      "Requirement already satisfied: matplotlib in c:\\users\\homepc\\anaconda3\\lib\\site-packages (3.9.2)\n",
      "Requirement already satisfied: packaging in c:\\users\\homepc\\anaconda3\\lib\\site-packages (from kagglehub) (24.1)\n",
      "Requirement already satisfied: pyyaml in c:\\users\\homepc\\anaconda3\\lib\\site-packages (from kagglehub) (6.0.1)\n",
      "Requirement already satisfied: requests in c:\\users\\homepc\\anaconda3\\lib\\site-packages (from kagglehub) (2.32.3)\n",
      "Requirement already satisfied: tqdm in c:\\users\\homepc\\anaconda3\\lib\\site-packages (from kagglehub) (4.66.5)\n",
      "Requirement already satisfied: contourpy>=1.0.1 in c:\\users\\homepc\\anaconda3\\lib\\site-packages (from matplotlib) (1.2.0)\n",
      "Requirement already satisfied: cycler>=0.10 in c:\\users\\homepc\\anaconda3\\lib\\site-packages (from matplotlib) (0.11.0)\n",
      "Requirement already satisfied: fonttools>=4.22.0 in c:\\users\\homepc\\anaconda3\\lib\\site-packages (from matplotlib) (4.51.0)\n",
      "Requirement already satisfied: kiwisolver>=1.3.1 in c:\\users\\homepc\\anaconda3\\lib\\site-packages (from matplotlib) (1.4.4)\n",
      "Requirement already satisfied: numpy>=1.23 in c:\\users\\homepc\\anaconda3\\lib\\site-packages (from matplotlib) (1.26.4)\n",
      "Requirement already satisfied: pillow>=8 in c:\\users\\homepc\\anaconda3\\lib\\site-packages (from matplotlib) (10.4.0)\n",
      "Requirement already satisfied: pyparsing>=2.3.1 in c:\\users\\homepc\\anaconda3\\lib\\site-packages (from matplotlib) (3.1.2)\n",
      "Requirement already satisfied: python-dateutil>=2.7 in c:\\users\\homepc\\anaconda3\\lib\\site-packages (from matplotlib) (2.9.0.post0)\n",
      "Requirement already satisfied: six>=1.5 in c:\\users\\homepc\\anaconda3\\lib\\site-packages (from python-dateutil>=2.7->matplotlib) (1.16.0)\n",
      "Requirement already satisfied: charset-normalizer<4,>=2 in c:\\users\\homepc\\anaconda3\\lib\\site-packages (from requests->kagglehub) (3.3.2)\n",
      "Requirement already satisfied: idna<4,>=2.5 in c:\\users\\homepc\\anaconda3\\lib\\site-packages (from requests->kagglehub) (3.7)\n",
      "Requirement already satisfied: urllib3<3,>=1.21.1 in c:\\users\\homepc\\anaconda3\\lib\\site-packages (from requests->kagglehub) (2.2.3)\n",
      "Requirement already satisfied: certifi>=2017.4.17 in c:\\users\\homepc\\anaconda3\\lib\\site-packages (from requests->kagglehub) (2025.4.26)\n",
      "Requirement already satisfied: colorama in c:\\users\\homepc\\anaconda3\\lib\\site-packages (from tqdm->kagglehub) (0.4.6)\n",
      "Note: you may need to restart the kernel to use updated packages.\n"
     ]
    }
   ],
   "source": [
    "%pip install kagglehub matplotlib"
   ]
  },
  {
   "cell_type": "markdown",
   "id": "c8cfb13e",
   "metadata": {},
   "source": [
    "### Importing Packages"
   ]
  },
  {
   "cell_type": "code",
   "execution_count": 55,
   "id": "1679c180",
   "metadata": {},
   "outputs": [],
   "source": [
    "import pandas as pd\n",
    "import matplotlib.pyplot as plt\n",
    "import numpy as np\n",
    "import seaborn as sns"
   ]
  },
  {
   "cell_type": "code",
   "execution_count": 56,
   "id": "fbb521ba",
   "metadata": {},
   "outputs": [],
   "source": [
    "df = pd.read_csv(r\"C:\\Users\\HomePC\\Documents\\School\\anaconda_projects\\Programs\\Project Data Sci & Analytics\\train.csv\")"
   ]
  },
  {
   "cell_type": "code",
   "execution_count": 57,
   "id": "7c8e7a06",
   "metadata": {},
   "outputs": [
    {
     "data": {
      "text/html": [
       "<div>\n",
       "<style scoped>\n",
       "    .dataframe tbody tr th:only-of-type {\n",
       "        vertical-align: middle;\n",
       "    }\n",
       "\n",
       "    .dataframe tbody tr th {\n",
       "        vertical-align: top;\n",
       "    }\n",
       "\n",
       "    .dataframe thead th {\n",
       "        text-align: right;\n",
       "    }\n",
       "</style>\n",
       "<table border=\"1\" class=\"dataframe\">\n",
       "  <thead>\n",
       "    <tr style=\"text-align: right;\">\n",
       "      <th></th>\n",
       "      <th>Row ID</th>\n",
       "      <th>Order ID</th>\n",
       "      <th>Order Date</th>\n",
       "      <th>Ship Date</th>\n",
       "      <th>Ship Mode</th>\n",
       "      <th>Customer ID</th>\n",
       "      <th>Customer Name</th>\n",
       "      <th>Segment</th>\n",
       "      <th>Country</th>\n",
       "      <th>City</th>\n",
       "      <th>State</th>\n",
       "      <th>Postal Code</th>\n",
       "      <th>Region</th>\n",
       "      <th>Product ID</th>\n",
       "      <th>Category</th>\n",
       "      <th>Sub-Category</th>\n",
       "      <th>Product Name</th>\n",
       "      <th>Sales</th>\n",
       "    </tr>\n",
       "  </thead>\n",
       "  <tbody>\n",
       "    <tr>\n",
       "      <th>0</th>\n",
       "      <td>1</td>\n",
       "      <td>CA-2017-152156</td>\n",
       "      <td>08/11/2017</td>\n",
       "      <td>11/11/2017</td>\n",
       "      <td>Second Class</td>\n",
       "      <td>CG-12520</td>\n",
       "      <td>Claire Gute</td>\n",
       "      <td>Consumer</td>\n",
       "      <td>United States</td>\n",
       "      <td>Henderson</td>\n",
       "      <td>Kentucky</td>\n",
       "      <td>42420.0</td>\n",
       "      <td>South</td>\n",
       "      <td>FUR-BO-10001798</td>\n",
       "      <td>Furniture</td>\n",
       "      <td>Bookcases</td>\n",
       "      <td>Bush Somerset Collection Bookcase</td>\n",
       "      <td>261.9600</td>\n",
       "    </tr>\n",
       "    <tr>\n",
       "      <th>1</th>\n",
       "      <td>2</td>\n",
       "      <td>CA-2017-152156</td>\n",
       "      <td>08/11/2017</td>\n",
       "      <td>11/11/2017</td>\n",
       "      <td>Second Class</td>\n",
       "      <td>CG-12520</td>\n",
       "      <td>Claire Gute</td>\n",
       "      <td>Consumer</td>\n",
       "      <td>United States</td>\n",
       "      <td>Henderson</td>\n",
       "      <td>Kentucky</td>\n",
       "      <td>42420.0</td>\n",
       "      <td>South</td>\n",
       "      <td>FUR-CH-10000454</td>\n",
       "      <td>Furniture</td>\n",
       "      <td>Chairs</td>\n",
       "      <td>Hon Deluxe Fabric Upholstered Stacking Chairs,...</td>\n",
       "      <td>731.9400</td>\n",
       "    </tr>\n",
       "    <tr>\n",
       "      <th>2</th>\n",
       "      <td>3</td>\n",
       "      <td>CA-2017-138688</td>\n",
       "      <td>12/06/2017</td>\n",
       "      <td>16/06/2017</td>\n",
       "      <td>Second Class</td>\n",
       "      <td>DV-13045</td>\n",
       "      <td>Darrin Van Huff</td>\n",
       "      <td>Corporate</td>\n",
       "      <td>United States</td>\n",
       "      <td>Los Angeles</td>\n",
       "      <td>California</td>\n",
       "      <td>90036.0</td>\n",
       "      <td>West</td>\n",
       "      <td>OFF-LA-10000240</td>\n",
       "      <td>Office Supplies</td>\n",
       "      <td>Labels</td>\n",
       "      <td>Self-Adhesive Address Labels for Typewriters b...</td>\n",
       "      <td>14.6200</td>\n",
       "    </tr>\n",
       "    <tr>\n",
       "      <th>3</th>\n",
       "      <td>4</td>\n",
       "      <td>US-2016-108966</td>\n",
       "      <td>11/10/2016</td>\n",
       "      <td>18/10/2016</td>\n",
       "      <td>Standard Class</td>\n",
       "      <td>SO-20335</td>\n",
       "      <td>Sean O'Donnell</td>\n",
       "      <td>Consumer</td>\n",
       "      <td>United States</td>\n",
       "      <td>Fort Lauderdale</td>\n",
       "      <td>Florida</td>\n",
       "      <td>33311.0</td>\n",
       "      <td>South</td>\n",
       "      <td>FUR-TA-10000577</td>\n",
       "      <td>Furniture</td>\n",
       "      <td>Tables</td>\n",
       "      <td>Bretford CR4500 Series Slim Rectangular Table</td>\n",
       "      <td>957.5775</td>\n",
       "    </tr>\n",
       "    <tr>\n",
       "      <th>4</th>\n",
       "      <td>5</td>\n",
       "      <td>US-2016-108966</td>\n",
       "      <td>11/10/2016</td>\n",
       "      <td>18/10/2016</td>\n",
       "      <td>Standard Class</td>\n",
       "      <td>SO-20335</td>\n",
       "      <td>Sean O'Donnell</td>\n",
       "      <td>Consumer</td>\n",
       "      <td>United States</td>\n",
       "      <td>Fort Lauderdale</td>\n",
       "      <td>Florida</td>\n",
       "      <td>33311.0</td>\n",
       "      <td>South</td>\n",
       "      <td>OFF-ST-10000760</td>\n",
       "      <td>Office Supplies</td>\n",
       "      <td>Storage</td>\n",
       "      <td>Eldon Fold 'N Roll Cart System</td>\n",
       "      <td>22.3680</td>\n",
       "    </tr>\n",
       "  </tbody>\n",
       "</table>\n",
       "</div>"
      ],
      "text/plain": [
       "   Row ID        Order ID  Order Date   Ship Date       Ship Mode Customer ID  \\\n",
       "0       1  CA-2017-152156  08/11/2017  11/11/2017    Second Class    CG-12520   \n",
       "1       2  CA-2017-152156  08/11/2017  11/11/2017    Second Class    CG-12520   \n",
       "2       3  CA-2017-138688  12/06/2017  16/06/2017    Second Class    DV-13045   \n",
       "3       4  US-2016-108966  11/10/2016  18/10/2016  Standard Class    SO-20335   \n",
       "4       5  US-2016-108966  11/10/2016  18/10/2016  Standard Class    SO-20335   \n",
       "\n",
       "     Customer Name    Segment        Country             City       State  \\\n",
       "0      Claire Gute   Consumer  United States        Henderson    Kentucky   \n",
       "1      Claire Gute   Consumer  United States        Henderson    Kentucky   \n",
       "2  Darrin Van Huff  Corporate  United States      Los Angeles  California   \n",
       "3   Sean O'Donnell   Consumer  United States  Fort Lauderdale     Florida   \n",
       "4   Sean O'Donnell   Consumer  United States  Fort Lauderdale     Florida   \n",
       "\n",
       "   Postal Code Region       Product ID         Category Sub-Category  \\\n",
       "0      42420.0  South  FUR-BO-10001798        Furniture    Bookcases   \n",
       "1      42420.0  South  FUR-CH-10000454        Furniture       Chairs   \n",
       "2      90036.0   West  OFF-LA-10000240  Office Supplies       Labels   \n",
       "3      33311.0  South  FUR-TA-10000577        Furniture       Tables   \n",
       "4      33311.0  South  OFF-ST-10000760  Office Supplies      Storage   \n",
       "\n",
       "                                        Product Name     Sales  \n",
       "0                  Bush Somerset Collection Bookcase  261.9600  \n",
       "1  Hon Deluxe Fabric Upholstered Stacking Chairs,...  731.9400  \n",
       "2  Self-Adhesive Address Labels for Typewriters b...   14.6200  \n",
       "3      Bretford CR4500 Series Slim Rectangular Table  957.5775  \n",
       "4                     Eldon Fold 'N Roll Cart System   22.3680  "
      ]
     },
     "execution_count": 57,
     "metadata": {},
     "output_type": "execute_result"
    }
   ],
   "source": [
    "df.head()"
   ]
  },
  {
   "cell_type": "code",
   "execution_count": 58,
   "id": "72bc1ca4",
   "metadata": {},
   "outputs": [
    {
     "ename": "ValueError",
     "evalue": "The truth value of a DataFrame is ambiguous. Use a.empty, a.bool(), a.item(), a.any() or a.all().",
     "output_type": "error",
     "traceback": [
      "\u001b[1;31m---------------------------------------------------------------------------\u001b[0m",
      "\u001b[1;31mValueError\u001b[0m                                Traceback (most recent call last)",
      "\u001b[1;32m~\\AppData\\Local\\Temp\\ipykernel_27404\\2716208080.py\u001b[0m in \u001b[0;36m?\u001b[1;34m()\u001b[0m\n\u001b[1;32m----> 1\u001b[1;33m \u001b[0mdf\u001b[0m\u001b[1;33m.\u001b[0m\u001b[0minfo\u001b[0m\u001b[1;33m(\u001b[0m\u001b[0m_\u001b[0m\u001b[1;33m)\u001b[0m\u001b[1;33m\u001b[0m\u001b[1;33m\u001b[0m\u001b[0m\n\u001b[0m",
      "\u001b[1;32m~\\anaconda3\\Lib\\site-packages\\pandas\\core\\frame.py\u001b[0m in \u001b[0;36m?\u001b[1;34m(self, verbose, buf, max_cols, memory_usage, show_counts)\u001b[0m\n\u001b[0;32m   3655\u001b[0m         info = DataFrameInfo(\n\u001b[0;32m   3656\u001b[0m             \u001b[0mdata\u001b[0m\u001b[1;33m=\u001b[0m\u001b[0mself\u001b[0m\u001b[1;33m,\u001b[0m\u001b[1;33m\u001b[0m\u001b[1;33m\u001b[0m\u001b[0m\n\u001b[0;32m   3657\u001b[0m             \u001b[0mmemory_usage\u001b[0m\u001b[1;33m=\u001b[0m\u001b[0mmemory_usage\u001b[0m\u001b[1;33m,\u001b[0m\u001b[1;33m\u001b[0m\u001b[1;33m\u001b[0m\u001b[0m\n\u001b[0;32m   3658\u001b[0m         \u001b[1;33m)\u001b[0m\u001b[1;33m\u001b[0m\u001b[1;33m\u001b[0m\u001b[0m\n\u001b[1;32m-> 3659\u001b[1;33m         info.render(\n\u001b[0m\u001b[0;32m   3660\u001b[0m             \u001b[0mbuf\u001b[0m\u001b[1;33m=\u001b[0m\u001b[0mbuf\u001b[0m\u001b[1;33m,\u001b[0m\u001b[1;33m\u001b[0m\u001b[1;33m\u001b[0m\u001b[0m\n\u001b[0;32m   3661\u001b[0m             \u001b[0mmax_cols\u001b[0m\u001b[1;33m=\u001b[0m\u001b[0mmax_cols\u001b[0m\u001b[1;33m,\u001b[0m\u001b[1;33m\u001b[0m\u001b[1;33m\u001b[0m\u001b[0m\n\u001b[0;32m   3662\u001b[0m             \u001b[0mverbose\u001b[0m\u001b[1;33m=\u001b[0m\u001b[0mverbose\u001b[0m\u001b[1;33m,\u001b[0m\u001b[1;33m\u001b[0m\u001b[1;33m\u001b[0m\u001b[0m\n",
      "\u001b[1;32m~\\anaconda3\\Lib\\site-packages\\pandas\\io\\formats\\info.py\u001b[0m in \u001b[0;36m?\u001b[1;34m(self, buf, max_cols, verbose, show_counts)\u001b[0m\n\u001b[0;32m    508\u001b[0m             \u001b[0mmax_cols\u001b[0m\u001b[1;33m=\u001b[0m\u001b[0mmax_cols\u001b[0m\u001b[1;33m,\u001b[0m\u001b[1;33m\u001b[0m\u001b[1;33m\u001b[0m\u001b[0m\n\u001b[0;32m    509\u001b[0m             \u001b[0mverbose\u001b[0m\u001b[1;33m=\u001b[0m\u001b[0mverbose\u001b[0m\u001b[1;33m,\u001b[0m\u001b[1;33m\u001b[0m\u001b[1;33m\u001b[0m\u001b[0m\n\u001b[0;32m    510\u001b[0m             \u001b[0mshow_counts\u001b[0m\u001b[1;33m=\u001b[0m\u001b[0mshow_counts\u001b[0m\u001b[1;33m,\u001b[0m\u001b[1;33m\u001b[0m\u001b[1;33m\u001b[0m\u001b[0m\n\u001b[0;32m    511\u001b[0m         \u001b[1;33m)\u001b[0m\u001b[1;33m\u001b[0m\u001b[1;33m\u001b[0m\u001b[0m\n\u001b[1;32m--> 512\u001b[1;33m         \u001b[0mprinter\u001b[0m\u001b[1;33m.\u001b[0m\u001b[0mto_buffer\u001b[0m\u001b[1;33m(\u001b[0m\u001b[0mbuf\u001b[0m\u001b[1;33m)\u001b[0m\u001b[1;33m\u001b[0m\u001b[1;33m\u001b[0m\u001b[0m\n\u001b[0m",
      "\u001b[1;32m~\\anaconda3\\Lib\\site-packages\\pandas\\io\\formats\\info.py\u001b[0m in \u001b[0;36m?\u001b[1;34m(self, buf)\u001b[0m\n\u001b[0;32m    580\u001b[0m     \u001b[1;32mdef\u001b[0m \u001b[0mto_buffer\u001b[0m\u001b[1;33m(\u001b[0m\u001b[0mself\u001b[0m\u001b[1;33m,\u001b[0m \u001b[0mbuf\u001b[0m\u001b[1;33m:\u001b[0m \u001b[0mWriteBuffer\u001b[0m\u001b[1;33m[\u001b[0m\u001b[0mstr\u001b[0m\u001b[1;33m]\u001b[0m \u001b[1;33m|\u001b[0m \u001b[1;32mNone\u001b[0m \u001b[1;33m=\u001b[0m \u001b[1;32mNone\u001b[0m\u001b[1;33m)\u001b[0m \u001b[1;33m->\u001b[0m \u001b[1;32mNone\u001b[0m\u001b[1;33m:\u001b[0m\u001b[1;33m\u001b[0m\u001b[1;33m\u001b[0m\u001b[0m\n\u001b[0;32m    581\u001b[0m         \u001b[1;34m\"\"\"Save dataframe info into buffer.\"\"\"\u001b[0m\u001b[1;33m\u001b[0m\u001b[1;33m\u001b[0m\u001b[0m\n\u001b[1;32m--> 582\u001b[1;33m         \u001b[0mtable_builder\u001b[0m \u001b[1;33m=\u001b[0m \u001b[0mself\u001b[0m\u001b[1;33m.\u001b[0m\u001b[0m_create_table_builder\u001b[0m\u001b[1;33m(\u001b[0m\u001b[1;33m)\u001b[0m\u001b[1;33m\u001b[0m\u001b[1;33m\u001b[0m\u001b[0m\n\u001b[0m\u001b[0;32m    583\u001b[0m         \u001b[0mlines\u001b[0m \u001b[1;33m=\u001b[0m \u001b[0mtable_builder\u001b[0m\u001b[1;33m.\u001b[0m\u001b[0mget_lines\u001b[0m\u001b[1;33m(\u001b[0m\u001b[1;33m)\u001b[0m\u001b[1;33m\u001b[0m\u001b[1;33m\u001b[0m\u001b[0m\n\u001b[0;32m    584\u001b[0m         \u001b[1;32mif\u001b[0m \u001b[0mbuf\u001b[0m \u001b[1;32mis\u001b[0m \u001b[1;32mNone\u001b[0m\u001b[1;33m:\u001b[0m  \u001b[1;31m# pragma: no cover\u001b[0m\u001b[1;33m\u001b[0m\u001b[1;33m\u001b[0m\u001b[0m\n\u001b[0;32m    585\u001b[0m             \u001b[0mbuf\u001b[0m \u001b[1;33m=\u001b[0m \u001b[0msys\u001b[0m\u001b[1;33m.\u001b[0m\u001b[0mstdout\u001b[0m\u001b[1;33m\u001b[0m\u001b[1;33m\u001b[0m\u001b[0m\n",
      "\u001b[1;32m~\\anaconda3\\Lib\\site-packages\\pandas\\io\\formats\\info.py\u001b[0m in \u001b[0;36m?\u001b[1;34m(self)\u001b[0m\n\u001b[0;32m    653\u001b[0m     \u001b[1;32mdef\u001b[0m \u001b[0m_create_table_builder\u001b[0m\u001b[1;33m(\u001b[0m\u001b[0mself\u001b[0m\u001b[1;33m)\u001b[0m \u001b[1;33m->\u001b[0m \u001b[0m_DataFrameTableBuilder\u001b[0m\u001b[1;33m:\u001b[0m\u001b[1;33m\u001b[0m\u001b[1;33m\u001b[0m\u001b[0m\n\u001b[0;32m    654\u001b[0m         \"\"\"\n\u001b[0;32m    655\u001b[0m         \u001b[0mCreate\u001b[0m \u001b[0minstance\u001b[0m \u001b[0mof\u001b[0m \u001b[0mtable\u001b[0m \u001b[0mbuilder\u001b[0m \u001b[0mbased\u001b[0m \u001b[0mon\u001b[0m \u001b[0mverbosity\u001b[0m \u001b[1;32mand\u001b[0m \u001b[0mdisplay\u001b[0m \u001b[0msettings\u001b[0m\u001b[1;33m.\u001b[0m\u001b[1;33m\u001b[0m\u001b[1;33m\u001b[0m\u001b[0m\n\u001b[0;32m    656\u001b[0m         \"\"\"\n\u001b[1;32m--> 657\u001b[1;33m         \u001b[1;32mif\u001b[0m \u001b[0mself\u001b[0m\u001b[1;33m.\u001b[0m\u001b[0mverbose\u001b[0m\u001b[1;33m:\u001b[0m\u001b[1;33m\u001b[0m\u001b[1;33m\u001b[0m\u001b[0m\n\u001b[0m\u001b[0;32m    658\u001b[0m             return _DataFrameTableBuilderVerbose(\n\u001b[0;32m    659\u001b[0m                 \u001b[0minfo\u001b[0m\u001b[1;33m=\u001b[0m\u001b[0mself\u001b[0m\u001b[1;33m.\u001b[0m\u001b[0minfo\u001b[0m\u001b[1;33m,\u001b[0m\u001b[1;33m\u001b[0m\u001b[1;33m\u001b[0m\u001b[0m\n\u001b[0;32m    660\u001b[0m                 \u001b[0mwith_counts\u001b[0m\u001b[1;33m=\u001b[0m\u001b[0mself\u001b[0m\u001b[1;33m.\u001b[0m\u001b[0mshow_counts\u001b[0m\u001b[1;33m,\u001b[0m\u001b[1;33m\u001b[0m\u001b[1;33m\u001b[0m\u001b[0m\n",
      "\u001b[1;32m~\\anaconda3\\Lib\\site-packages\\pandas\\core\\generic.py\u001b[0m in \u001b[0;36m?\u001b[1;34m(self)\u001b[0m\n\u001b[0;32m   1575\u001b[0m     \u001b[1;33m@\u001b[0m\u001b[0mfinal\u001b[0m\u001b[1;33m\u001b[0m\u001b[1;33m\u001b[0m\u001b[0m\n\u001b[0;32m   1576\u001b[0m     \u001b[1;32mdef\u001b[0m \u001b[0m__nonzero__\u001b[0m\u001b[1;33m(\u001b[0m\u001b[0mself\u001b[0m\u001b[1;33m)\u001b[0m \u001b[1;33m->\u001b[0m \u001b[0mNoReturn\u001b[0m\u001b[1;33m:\u001b[0m\u001b[1;33m\u001b[0m\u001b[1;33m\u001b[0m\u001b[0m\n\u001b[1;32m-> 1577\u001b[1;33m         raise ValueError(\n\u001b[0m\u001b[0;32m   1578\u001b[0m             \u001b[1;33mf\"\u001b[0m\u001b[1;33mThe truth value of a \u001b[0m\u001b[1;33m{\u001b[0m\u001b[0mtype\u001b[0m\u001b[1;33m(\u001b[0m\u001b[0mself\u001b[0m\u001b[1;33m)\u001b[0m\u001b[1;33m.\u001b[0m\u001b[0m__name__\u001b[0m\u001b[1;33m}\u001b[0m\u001b[1;33m is ambiguous. \u001b[0m\u001b[1;33m\"\u001b[0m\u001b[1;33m\u001b[0m\u001b[1;33m\u001b[0m\u001b[0m\n\u001b[0;32m   1579\u001b[0m             \u001b[1;34m\"Use a.empty, a.bool(), a.item(), a.any() or a.all().\"\u001b[0m\u001b[1;33m\u001b[0m\u001b[1;33m\u001b[0m\u001b[0m\n\u001b[0;32m   1580\u001b[0m         \u001b[1;33m)\u001b[0m\u001b[1;33m\u001b[0m\u001b[1;33m\u001b[0m\u001b[0m\n",
      "\u001b[1;31mValueError\u001b[0m: The truth value of a DataFrame is ambiguous. Use a.empty, a.bool(), a.item(), a.any() or a.all()."
     ]
    }
   ],
   "source": [
    "df.info(_)"
   ]
  },
  {
   "cell_type": "markdown",
   "id": "30e53ed2",
   "metadata": {},
   "source": [
    "### Filling Null values"
   ]
  },
  {
   "cell_type": "code",
   "execution_count": 99,
   "id": "6a85e269",
   "metadata": {},
   "outputs": [
    {
     "name": "stderr",
     "output_type": "stream",
     "text": [
      "C:\\Users\\HomePC\\AppData\\Local\\Temp\\ipykernel_27404\\2039719930.py:1: FutureWarning: A value is trying to be set on a copy of a DataFrame or Series through chained assignment using an inplace method.\n",
      "The behavior will change in pandas 3.0. This inplace method will never work because the intermediate object on which we are setting values always behaves as a copy.\n",
      "\n",
      "For example, when doing 'df[col].method(value, inplace=True)', try using 'df.method({col: value}, inplace=True)' or df[col] = df[col].method(value) instead, to perform the operation inplace on the original object.\n",
      "\n",
      "\n",
      "  df[\"Postal Code\"].fillna(0,  inplace = True)\n"
     ]
    }
   ],
   "source": [
    "df[\"Postal Code\"].fillna(0,  inplace = True)\n",
    "df [\"Postal Code\"] = df[\"Postal Code\"].astype(int)"
   ]
  },
  {
   "cell_type": "code",
   "execution_count": null,
   "id": "462ea277",
   "metadata": {},
   "outputs": [],
   "source": [
    "df.info()"
   ]
  },
  {
   "cell_type": "markdown",
   "id": "1330e3c6",
   "metadata": {},
   "source": [
    "### Checking for Duplicates"
   ]
  },
  {
   "cell_type": "code",
   "execution_count": null,
   "id": "6167c46c",
   "metadata": {},
   "outputs": [],
   "source": [
    "if df.duplicated().sum() > 0: #\n",
    "    print(\"Duplicate exists\")\n",
    "else:\n",
    "    print(\"Doesn't Exist\")"
   ]
  },
  {
   "cell_type": "code",
   "execution_count": null,
   "id": "bc652e14",
   "metadata": {},
   "outputs": [],
   "source": [
    "df.head(100)"
   ]
  },
  {
   "cell_type": "markdown",
   "id": "58288c8e",
   "metadata": {},
   "source": [
    "## Revenue by Customer Segment\n",
    "- Will help us understand our largest buyers and also improve our customer service to each segment.\n",
    "- How we can improve customer services to them and ensure customer loyalty and satisfication throught the year."
   ]
  },
  {
   "cell_type": "markdown",
   "id": "6ea98c3d",
   "metadata": {},
   "source": [
    "### Types of Customers"
   ]
  },
  {
   "cell_type": "code",
   "execution_count": null,
   "id": "36604297",
   "metadata": {},
   "outputs": [],
   "source": [
    "types_of_customers = df['Segment'].unique()\n",
    "print (types_of_customers)"
   ]
  },
  {
   "cell_type": "code",
   "execution_count": null,
   "id": "9f034395",
   "metadata": {},
   "outputs": [],
   "source": [
    "number_of_customers = df['Segment'].value_counts().reset_index()\n",
    "number_of_customers = number_of_customers.rename(columns={'Segment' : 'Type Of Customer'})\n",
    "print (number_of_customers)"
   ]
  },
  {
   "cell_type": "markdown",
   "id": "d7cbacb2",
   "metadata": {},
   "source": [
    "### Visualize the distribution of different types of customers."
   ]
  },
  {
   "cell_type": "code",
   "execution_count": null,
   "id": "84d0b949",
   "metadata": {},
   "outputs": [],
   "source": [
    "plt.pie(number_of_customers['count'], labels=number_of_customers['Type Of Customer'], autopct='%1.1f%%')\n",
    "     "
   ]
  },
  {
   "cell_type": "markdown",
   "id": "abcf017b",
   "metadata": {},
   "source": [
    "## Customer Sales Insights\n",
    "1. Understanding Customer Need\n",
    "\n",
    "2. Improving Customer Engagement\n",
    "3. Bridging Marketing and Sales\n",
    "\n",
    "4. Enhancing Efficiency: By understanding customer behavior and preferences, you can streamline your processes, making them more efficient and reducing wasted efforts.\n",
    "\n",
    "5. Building Realistic Expectations: Insights help in setting realistic expectations around your products and services,"
   ]
  },
  {
   "cell_type": "code",
   "execution_count": null,
   "id": "d998dfb4",
   "metadata": {},
   "outputs": [],
   "source": [
    "sales_per_segment = df.groupby('Segment')['Sales'].sum().reset_index()\n",
    "sales_per_segment = sales_per_segment.rename(columns={'Segment' : 'Type Of Customer', 'Sales' : 'Total Sales'})\n",
    "\n",
    "print(sales_per_segment)"
   ]
  },
  {
   "cell_type": "code",
   "execution_count": null,
   "id": "4293197d",
   "metadata": {},
   "outputs": [],
   "source": [
    "plt.bar(sales_per_segment['Type Of Customer'], sales_per_segment['Total Sales'])"
   ]
  },
  {
   "cell_type": "code",
   "execution_count": null,
   "id": "50cfcf4c",
   "metadata": {},
   "outputs": [],
   "source": [
    "plt.pie(sales_per_segment['Total Sales'], labels=sales_per_segment['Type Of Customer'], autopct='%1.1f%%')"
   ]
  },
  {
   "cell_type": "code",
   "execution_count": null,
   "id": "6535dd24",
   "metadata": {},
   "outputs": [],
   "source": [
    "df.head(3)"
   ]
  },
  {
   "cell_type": "markdown",
   "id": "fecb3f02",
   "metadata": {},
   "source": [
    "## Exploring Customer Loyalty"
   ]
  },
  {
   "cell_type": "markdown",
   "id": "2d6bc913",
   "metadata": {},
   "source": [
    "### The Customers Info Table"
   ]
  },
  {
   "cell_type": "code",
   "execution_count": null,
   "id": "6c5a0f72",
   "metadata": {},
   "outputs": [],
   "source": [
    "customers_order_frequency = df.groupby(['Customer ID', 'Customer Name', 'Segment'])['Order ID'].count().reset_index()\n",
    "customers_order_frequency.rename(columns={'Order ID' : 'Total Orders'}, inplace = True)\n",
    "\n",
    "print(customers_order_frequency)"
   ]
  },
  {
   "cell_type": "markdown",
   "id": "1ba6f117",
   "metadata": {},
   "source": [
    "### Customers Segment with The Highest Orders"
   ]
  },
  {
   "cell_type": "code",
   "execution_count": null,
   "id": "514e1df9",
   "metadata": {},
   "outputs": [],
   "source": [
    "repeat_customers = customers_order_frequency[customers_order_frequency['Total Orders'] >= 1]\n",
    "repeat_customers_sorted = repeat_customers.sort_values(by='Total Orders', ascending = False)\n",
    "\n",
    "print(repeat_customers_sorted.head(20).reset_index(drop=True))"
   ]
  },
  {
   "cell_type": "markdown",
   "id": "f0406ff4",
   "metadata": {},
   "source": [
    "### Customer grouped by Sales"
   ]
  },
  {
   "cell_type": "code",
   "execution_count": null,
   "id": "4953c4d1",
   "metadata": {},
   "outputs": [],
   "source": [
    "customer_sales = df.groupby(['Customer ID', 'Customer Name', 'Segment'])['Sales'].sum().reset_index()\n",
    "print(customer_sales)"
   ]
  },
  {
   "cell_type": "markdown",
   "id": "4c8d5d2f",
   "metadata": {},
   "source": [
    "### Top Spenders"
   ]
  },
  {
   "cell_type": "code",
   "execution_count": null,
   "id": "72d89e3d",
   "metadata": {},
   "outputs": [],
   "source": [
    "\n",
    "top_spenders = customer_sales.sort_values(by='Sales', ascending=False)\n",
    "print(top_spenders.head(12).reset_index(drop=True))"
   ]
  },
  {
   "cell_type": "code",
   "execution_count": null,
   "id": "8111472a",
   "metadata": {},
   "outputs": [],
   "source": []
  },
  {
   "cell_type": "markdown",
   "id": "8501fd9a",
   "metadata": {},
   "source": [
    "## Superstore Shipping Strategies"
   ]
  },
  {
   "cell_type": "code",
   "execution_count": null,
   "id": "78dead7c",
   "metadata": {},
   "outputs": [],
   "source": [
    "types_of_customers = df['Ship Mode'].unique()\n",
    "print(types_of_customers)"
   ]
  },
  {
   "cell_type": "code",
   "execution_count": null,
   "id": "9799e570",
   "metadata": {},
   "outputs": [],
   "source": [
    "shipping_model = df['Ship Mode'].value_counts().reset_index()\n",
    "shipping_model = shipping_model.rename(columns={'index':'Use Frequency', 'Ship Mode':'Mode Of Shipment', 'count' : 'Use Frequency'})\n",
    "print(shipping_model)"
   ]
  },
  {
   "cell_type": "code",
   "execution_count": null,
   "id": "5e5795f8",
   "metadata": {},
   "outputs": [],
   "source": [
    "plt.pie(shipping_model['Use Frequency'], labels=shipping_model['Mode Of Shipment'], autopct='%1.1f%%')\n",
    "plt.title('No Orders by Mode of Shipment')\n",
    "plt.show()     "
   ]
  },
  {
   "cell_type": "markdown",
   "id": "ed108e5b",
   "metadata": {},
   "source": [
    "## Georgraphical Market Analysis"
   ]
  },
  {
   "cell_type": "markdown",
   "id": "a079e560",
   "metadata": {},
   "source": [
    "### Orders by State"
   ]
  },
  {
   "cell_type": "code",
   "execution_count": null,
   "id": "fe9f6ec7",
   "metadata": {},
   "outputs": [],
   "source": [
    "state = df['State'].value_counts().reset_index()\n",
    "state = state.rename(columns={'index':'State', 'State':'Number Of Customers'})\n",
    "print(state.head(20))"
   ]
  },
  {
   "cell_type": "markdown",
   "id": "c626f8d0",
   "metadata": {},
   "source": [
    "### Orders by City"
   ]
  },
  {
   "cell_type": "code",
   "execution_count": null,
   "id": "c0124f7a",
   "metadata": {},
   "outputs": [],
   "source": [
    "city = df['City'].value_counts().reset_index()\n",
    "city.head(25)"
   ]
  },
  {
   "cell_type": "markdown",
   "id": "bb284888",
   "metadata": {},
   "source": [
    "### Top Sales by City"
   ]
  },
  {
   "cell_type": "code",
   "execution_count": null,
   "id": "731464ff",
   "metadata": {},
   "outputs": [],
   "source": [
    "city_sales = df.groupby(['City'])['Sales'].sum().reset_index()\n",
    "top_city_sales = city_sales.sort_values (by='Sales', ascending=False)\n",
    "top_city_sales.head(10).reset_index(drop=True)"
   ]
  },
  {
   "cell_type": "markdown",
   "id": "7afa6d9b",
   "metadata": {},
   "source": [
    "### Bottom Sales by City"
   ]
  },
  {
   "cell_type": "code",
   "execution_count": null,
   "id": "6e0de6d5",
   "metadata": {},
   "outputs": [],
   "source": [
    "bottom_city_sales = city_sales.sort_values (by='Sales', ascending=True)\n",
    "bottom_city_sales.head(10).reset_index(drop=True)"
   ]
  },
  {
   "cell_type": "markdown",
   "id": "18829f96",
   "metadata": {},
   "source": [
    "### Top Sales by State"
   ]
  },
  {
   "cell_type": "code",
   "execution_count": null,
   "id": "765da357",
   "metadata": {},
   "outputs": [],
   "source": [
    "state_sales = df.groupby(['State'])['Sales'].sum().reset_index()\n",
    "top_sales = state_sales.sort_values(by='Sales', ascending=False)\n",
    "top_sales.head(10).reset_index(drop=True)"
   ]
  },
  {
   "cell_type": "markdown",
   "id": "e4f9f259",
   "metadata": {},
   "source": [
    "### Bottom Sales by State"
   ]
  },
  {
   "cell_type": "code",
   "execution_count": null,
   "id": "9bf446d1",
   "metadata": {},
   "outputs": [],
   "source": [
    "bottom_sales = state_sales.sort_values(by='Sales', ascending=True)\n",
    "bottom_sales.head(10).reset_index(drop=True)"
   ]
  },
  {
   "cell_type": "markdown",
   "id": "c5a73f4a",
   "metadata": {},
   "source": [
    "### State-City Sales"
   ]
  },
  {
   "cell_type": "code",
   "execution_count": null,
   "id": "1b4f4b8c",
   "metadata": {},
   "outputs": [],
   "source": [
    "state_city_sales = df.groupby(['State', 'City'])['Sales'].sum().reset_index()\n",
    "print(state_city_sales.head(20))"
   ]
  },
  {
   "cell_type": "markdown",
   "id": "0d688837",
   "metadata": {},
   "source": [
    "## Product Performance Insight"
   ]
  },
  {
   "cell_type": "markdown",
   "id": "3705a8ad",
   "metadata": {},
   "source": [
    "### Category of Products"
   ]
  },
  {
   "cell_type": "code",
   "execution_count": null,
   "id": "fd17f676",
   "metadata": {},
   "outputs": [],
   "source": [
    "products = df['Category'].unique()\n",
    "print(products)"
   ]
  },
  {
   "cell_type": "markdown",
   "id": "95261b29",
   "metadata": {},
   "source": [
    "### List of  Sub-Category"
   ]
  },
  {
   "cell_type": "code",
   "execution_count": null,
   "id": "55d360b7",
   "metadata": {},
   "outputs": [],
   "source": [
    "product_subcategory = df['Sub-Category'].unique()\n",
    "print(product_subcategory)     "
   ]
  },
  {
   "cell_type": "markdown",
   "id": "65f5aeab",
   "metadata": {},
   "source": [
    "### Total Sub-Category for @ Category"
   ]
  },
  {
   "cell_type": "code",
   "execution_count": null,
   "id": "67925599",
   "metadata": {},
   "outputs": [],
   "source": [
    "subcategory_count = df.groupby('Category')['Sub-Category'].nunique().reset_index()\n",
    "subcategory_count = subcategory_count.sort_values(by='Sub-Category', ascending = False)\n",
    "print(subcategory_count)"
   ]
  },
  {
   "cell_type": "markdown",
   "id": "183c4499",
   "metadata": {},
   "source": [
    "### Sales by Category & Sub- Category"
   ]
  },
  {
   "cell_type": "code",
   "execution_count": null,
   "id": "4d2c1c8a",
   "metadata": {},
   "outputs": [],
   "source": [
    "subcategory_count_sales = df.groupby(['Category', 'Sub-Category'])['Sales'].sum().reset_index()\n",
    "subcategory_count_sales = subcategory_count_sales.sort_values(by='Sales', ascending = False)\n",
    "\n",
    "print(subcategory_count_sales)"
   ]
  },
  {
   "cell_type": "markdown",
   "id": "32ac806b",
   "metadata": {},
   "source": [
    "### Top Sales by Category"
   ]
  },
  {
   "cell_type": "code",
   "execution_count": null,
   "id": "8d6c859b",
   "metadata": {},
   "outputs": [],
   "source": [
    "\n",
    "product_category = df.groupby(['Category'])['Sales'].sum().reset_index()\n",
    "top_product_category = product_category.sort_values(by='Sales', ascending = False)\n",
    "print(top_product_category.reset_index(drop=True))"
   ]
  },
  {
   "cell_type": "markdown",
   "id": "5d120018",
   "metadata": {},
   "source": [
    "### Sales by Category visual"
   ]
  },
  {
   "cell_type": "code",
   "execution_count": null,
   "id": "5bc85084",
   "metadata": {},
   "outputs": [],
   "source": [
    "plt.pie(top_product_category['Sales'], labels=top_product_category['Category'], autopct='%1.1f%%')\n",
    "plt.title('Sales Distribution by Product Category')\n",
    "plt.show()\n"
   ]
  },
  {
   "cell_type": "markdown",
   "id": "40bae951",
   "metadata": {},
   "source": [
    "### Sales by Sub-Caregory Visual"
   ]
  },
  {
   "cell_type": "code",
   "execution_count": null,
   "id": "abc3caa9",
   "metadata": {},
   "outputs": [],
   "source": [
    "subcategory_count_sales = subcategory_count_sales.sort_values(by='Sales', ascending = True)\n",
    "plt.barh(subcategory_count_sales['Sub-Category'], subcategory_count_sales['Sales'])\n",
    "plt.title('Sales Distribution by Product Sub-Category')"
   ]
  },
  {
   "cell_type": "markdown",
   "id": "d00baa9f",
   "metadata": {},
   "source": [
    "## Comprehensive  Sales Analysis"
   ]
  },
  {
   "cell_type": "code",
   "execution_count": null,
   "id": "9f52c0ce",
   "metadata": {},
   "outputs": [],
   "source": [
    "\n",
    "df['Order Date'] = pd.to_datetime(df['Order Date'], dayfirst = True)\n",
    "yearly_sales = df.groupby(df['Order Date'].dt.year)['Sales'].sum()\n",
    "yearly_sales = yearly_sales.reset_index()\n",
    "yearly_sales = yearly_sales.rename(columns={'Order Date' : 'Year', 'Sales': 'Total Sales'})\n",
    "\n",
    "yearly_sales.head()"
   ]
  },
  {
   "cell_type": "code",
   "execution_count": null,
   "id": "00b18946",
   "metadata": {},
   "outputs": [],
   "source": [
    "\n",
    "plt.bar(yearly_sales['Year'], yearly_sales['Total Sales'])\n",
    "plt.title('Total sales by Year')\n"
   ]
  },
  {
   "cell_type": "markdown",
   "id": "0c804f1e",
   "metadata": {},
   "source": [
    "## Tracking Sales Analysis"
   ]
  },
  {
   "cell_type": "markdown",
   "id": "7f4406fc",
   "metadata": {},
   "source": [
    "### Yearly sales"
   ]
  },
  {
   "cell_type": "code",
   "execution_count": null,
   "id": "1e5a02d7",
   "metadata": {},
   "outputs": [],
   "source": [
    "plt.plot(yearly_sales['Year'], yearly_sales['Total Sales'], marker='o', linestyle='-',color= 'green')\n",
    "plt.title('Total sales by Year')"
   ]
  },
  {
   "cell_type": "markdown",
   "id": "abbbcf99",
   "metadata": {},
   "source": [
    "### Total Quartely Sales"
   ]
  },
  {
   "cell_type": "code",
   "execution_count": null,
   "id": "8f0deee8",
   "metadata": {},
   "outputs": [],
   "source": [
    "df['Order Date'] = pd.to_datetime(df['Order Date'], dayfirst=True)\n",
    "year_sales = df[df['Order Date'].dt.year == 2018]\n",
    "quarterly_sales = year_sales.resample('Q', on='Order Date')['Sales'].sum()\n",
    "quarterly_sales = quarterly_sales.reset_index()\n",
    "quarterly_sales = quarterly_sales.rename(columns = {'Order Date': 'Quarter', 'Sales' : 'Total Sales'})\n",
    "\n",
    "quarterly_sales.head()"
   ]
  },
  {
   "cell_type": "code",
   "execution_count": null,
   "id": "54f0dd94",
   "metadata": {},
   "outputs": [],
   "source": [
    "plt.plot(quarterly_sales['Quarter'], quarterly_sales['Total Sales'], marker = 'o', linestyle = '--')\n",
    "\n",
    "plt.tight_layout()\n",
    "plt.xticks(rotation=75)\n",
    "plt.title('Quartely sales Amount')\n",
    "plt.show()"
   ]
  },
  {
   "cell_type": "markdown",
   "id": "1b9fda27",
   "metadata": {},
   "source": [
    "### Monthly Sales"
   ]
  },
  {
   "cell_type": "code",
   "execution_count": null,
   "id": "e7c763f5",
   "metadata": {},
   "outputs": [],
   "source": [
    "df['Order Date'] = pd.to_datetime(df['Order Date'], dayfirst = True)\n",
    "yearly_sales = df[df['Order Date'].dt.year == 2018]\n",
    "monthly_sales = yearly_sales.resample('M', on = 'Order Date')['Sales'].sum()\n",
    "monthly_sales = monthly_sales.reset_index()\n",
    "monthly_sales = monthly_sales.rename(columns={'Order Date':'Month', 'Sales' : 'Total Monthly Sales'})\n",
    "\n",
    "monthly_sales.head"
   ]
  },
  {
   "cell_type": "code",
   "execution_count": null,
   "id": "a5d85b11",
   "metadata": {},
   "outputs": [],
   "source": [
    "plt.plot(monthly_sales['Month'], monthly_sales['Total Monthly Sales'], marker = 'o', linestyle = '--')\n",
    "plt.title('Monthly Sales Trend')\n",
    "     "
   ]
  }
 ],
 "metadata": {
  "kernelspec": {
   "display_name": "Python 3 (ipykernel)",
   "language": "python",
   "name": "python3"
  },
  "language_info": {
   "codemirror_mode": {
    "name": "ipython",
    "version": 3
   },
   "file_extension": ".py",
   "mimetype": "text/x-python",
   "name": "python",
   "nbconvert_exporter": "python",
   "pygments_lexer": "ipython3",
   "version": "3.12.7"
  }
 },
 "nbformat": 4,
 "nbformat_minor": 5
}
