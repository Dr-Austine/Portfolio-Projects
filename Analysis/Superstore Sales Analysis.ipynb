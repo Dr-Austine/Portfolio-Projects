{
 "cells": [
  {
   "cell_type": "markdown",
   "id": "6585dae4",
   "metadata": {
    "vscode": {
     "languageId": "html"
    }
   },
   "source": [
    "# <span style=\"color:forestgreen\">Superstore Sales Analysis</span>"
   ]
  },
  {
   "cell_type": "markdown",
   "id": "8b92ff2b",
   "metadata": {},
   "source": [
    "## Exploring The Data"
   ]
  },
  {
   "cell_type": "code",
   "execution_count": 1,
   "id": "f3d126a2",
   "metadata": {},
   "outputs": [
    {
     "name": "stdout",
     "output_type": "stream",
     "text": [
      "Requirement already satisfied: kagglehub in c:\\users\\homepc\\anaconda3\\lib\\site-packages (0.3.12)\n",
      "Requirement already satisfied: matplotlib in c:\\users\\homepc\\anaconda3\\lib\\site-packages (3.9.2)\n",
      "Requirement already satisfied: packaging in c:\\users\\homepc\\anaconda3\\lib\\site-packages (from kagglehub) (24.1)\n",
      "Requirement already satisfied: pyyaml in c:\\users\\homepc\\anaconda3\\lib\\site-packages (from kagglehub) (6.0.1)\n",
      "Requirement already satisfied: requests in c:\\users\\homepc\\anaconda3\\lib\\site-packages (from kagglehub) (2.32.3)\n",
      "Requirement already satisfied: tqdm in c:\\users\\homepc\\anaconda3\\lib\\site-packages (from kagglehub) (4.66.5)\n",
      "Requirement already satisfied: contourpy>=1.0.1 in c:\\users\\homepc\\anaconda3\\lib\\site-packages (from matplotlib) (1.2.0)\n",
      "Requirement already satisfied: cycler>=0.10 in c:\\users\\homepc\\anaconda3\\lib\\site-packages (from matplotlib) (0.11.0)\n",
      "Requirement already satisfied: fonttools>=4.22.0 in c:\\users\\homepc\\anaconda3\\lib\\site-packages (from matplotlib) (4.51.0)\n",
      "Requirement already satisfied: kiwisolver>=1.3.1 in c:\\users\\homepc\\anaconda3\\lib\\site-packages (from matplotlib) (1.4.4)\n",
      "Requirement already satisfied: numpy>=1.23 in c:\\users\\homepc\\anaconda3\\lib\\site-packages (from matplotlib) (1.26.4)\n",
      "Requirement already satisfied: pillow>=8 in c:\\users\\homepc\\anaconda3\\lib\\site-packages (from matplotlib) (10.4.0)\n",
      "Requirement already satisfied: pyparsing>=2.3.1 in c:\\users\\homepc\\anaconda3\\lib\\site-packages (from matplotlib) (3.1.2)\n",
      "Requirement already satisfied: python-dateutil>=2.7 in c:\\users\\homepc\\anaconda3\\lib\\site-packages (from matplotlib) (2.9.0.post0)\n",
      "Requirement already satisfied: six>=1.5 in c:\\users\\homepc\\anaconda3\\lib\\site-packages (from python-dateutil>=2.7->matplotlib) (1.16.0)\n",
      "Requirement already satisfied: charset-normalizer<4,>=2 in c:\\users\\homepc\\anaconda3\\lib\\site-packages (from requests->kagglehub) (3.3.2)\n",
      "Requirement already satisfied: idna<4,>=2.5 in c:\\users\\homepc\\anaconda3\\lib\\site-packages (from requests->kagglehub) (3.7)\n",
      "Requirement already satisfied: urllib3<3,>=1.21.1 in c:\\users\\homepc\\anaconda3\\lib\\site-packages (from requests->kagglehub) (2.2.3)\n",
      "Requirement already satisfied: certifi>=2017.4.17 in c:\\users\\homepc\\anaconda3\\lib\\site-packages (from requests->kagglehub) (2025.4.26)\n",
      "Requirement already satisfied: colorama in c:\\users\\homepc\\anaconda3\\lib\\site-packages (from tqdm->kagglehub) (0.4.6)\n",
      "Note: you may need to restart the kernel to use updated packages.\n"
     ]
    }
   ],
   "source": [
    "%pip install kagglehub matplotlib"
   ]
  },
  {
   "cell_type": "markdown",
   "id": "c8cfb13e",
   "metadata": {},
   "source": [
    "### Importing Packages"
   ]
  },
  {
   "cell_type": "code",
   "execution_count": 2,
   "id": "1679c180",
   "metadata": {},
   "outputs": [],
   "source": [
    "import pandas as pd\n",
    "import matplotlib.pyplot as plt\n",
    "import numpy as np\n",
    "import seaborn as sns"
   ]
  },
  {
   "cell_type": "code",
   "execution_count": 3,
   "id": "fbb521ba",
   "metadata": {},
   "outputs": [],
   "source": [
    "df = pd.read_csv(r\"C:\\Users\\HomePC\\Documents\\School\\anaconda_projects\\Programs\\Project Data Sci & Analytics\\train.csv\")"
   ]
  },
  {
   "cell_type": "code",
   "execution_count": 4,
   "id": "7c8e7a06",
   "metadata": {},
   "outputs": [
    {
     "data": {
      "application/vnd.microsoft.datawrangler.viewer.v0+json": {
       "columns": [
        {
         "name": "index",
         "rawType": "int64",
         "type": "integer"
        },
        {
         "name": "Row ID",
         "rawType": "int64",
         "type": "integer"
        },
        {
         "name": "Order ID",
         "rawType": "object",
         "type": "string"
        },
        {
         "name": "Order Date",
         "rawType": "object",
         "type": "string"
        },
        {
         "name": "Ship Date",
         "rawType": "object",
         "type": "string"
        },
        {
         "name": "Ship Mode",
         "rawType": "object",
         "type": "string"
        },
        {
         "name": "Customer ID",
         "rawType": "object",
         "type": "string"
        },
        {
         "name": "Customer Name",
         "rawType": "object",
         "type": "string"
        },
        {
         "name": "Segment",
         "rawType": "object",
         "type": "string"
        },
        {
         "name": "Country",
         "rawType": "object",
         "type": "string"
        },
        {
         "name": "City",
         "rawType": "object",
         "type": "string"
        },
        {
         "name": "State",
         "rawType": "object",
         "type": "string"
        },
        {
         "name": "Postal Code",
         "rawType": "float64",
         "type": "float"
        },
        {
         "name": "Region",
         "rawType": "object",
         "type": "string"
        },
        {
         "name": "Product ID",
         "rawType": "object",
         "type": "string"
        },
        {
         "name": "Category",
         "rawType": "object",
         "type": "string"
        },
        {
         "name": "Sub-Category",
         "rawType": "object",
         "type": "string"
        },
        {
         "name": "Product Name",
         "rawType": "object",
         "type": "string"
        },
        {
         "name": "Sales",
         "rawType": "float64",
         "type": "float"
        }
       ],
       "ref": "0f01fd59-da56-4c99-b340-f975179493a0",
       "rows": [
        [
         "0",
         "1",
         "CA-2017-152156",
         "08/11/2017",
         "11/11/2017",
         "Second Class",
         "CG-12520",
         "Claire Gute",
         "Consumer",
         "United States",
         "Henderson",
         "Kentucky",
         "42420.0",
         "South",
         "FUR-BO-10001798",
         "Furniture",
         "Bookcases",
         "Bush Somerset Collection Bookcase",
         "261.96"
        ],
        [
         "1",
         "2",
         "CA-2017-152156",
         "08/11/2017",
         "11/11/2017",
         "Second Class",
         "CG-12520",
         "Claire Gute",
         "Consumer",
         "United States",
         "Henderson",
         "Kentucky",
         "42420.0",
         "South",
         "FUR-CH-10000454",
         "Furniture",
         "Chairs",
         "Hon Deluxe Fabric Upholstered Stacking Chairs, Rounded Back",
         "731.94"
        ],
        [
         "2",
         "3",
         "CA-2017-138688",
         "12/06/2017",
         "16/06/2017",
         "Second Class",
         "DV-13045",
         "Darrin Van Huff",
         "Corporate",
         "United States",
         "Los Angeles",
         "California",
         "90036.0",
         "West",
         "OFF-LA-10000240",
         "Office Supplies",
         "Labels",
         "Self-Adhesive Address Labels for Typewriters by Universal",
         "14.62"
        ],
        [
         "3",
         "4",
         "US-2016-108966",
         "11/10/2016",
         "18/10/2016",
         "Standard Class",
         "SO-20335",
         "Sean O'Donnell",
         "Consumer",
         "United States",
         "Fort Lauderdale",
         "Florida",
         "33311.0",
         "South",
         "FUR-TA-10000577",
         "Furniture",
         "Tables",
         "Bretford CR4500 Series Slim Rectangular Table",
         "957.5775"
        ],
        [
         "4",
         "5",
         "US-2016-108966",
         "11/10/2016",
         "18/10/2016",
         "Standard Class",
         "SO-20335",
         "Sean O'Donnell",
         "Consumer",
         "United States",
         "Fort Lauderdale",
         "Florida",
         "33311.0",
         "South",
         "OFF-ST-10000760",
         "Office Supplies",
         "Storage",
         "Eldon Fold 'N Roll Cart System",
         "22.368"
        ]
       ],
       "shape": {
        "columns": 18,
        "rows": 5
       }
      },
      "text/html": [
       "<div>\n",
       "<style scoped>\n",
       "    .dataframe tbody tr th:only-of-type {\n",
       "        vertical-align: middle;\n",
       "    }\n",
       "\n",
       "    .dataframe tbody tr th {\n",
       "        vertical-align: top;\n",
       "    }\n",
       "\n",
       "    .dataframe thead th {\n",
       "        text-align: right;\n",
       "    }\n",
       "</style>\n",
       "<table border=\"1\" class=\"dataframe\">\n",
       "  <thead>\n",
       "    <tr style=\"text-align: right;\">\n",
       "      <th></th>\n",
       "      <th>Row ID</th>\n",
       "      <th>Order ID</th>\n",
       "      <th>Order Date</th>\n",
       "      <th>Ship Date</th>\n",
       "      <th>Ship Mode</th>\n",
       "      <th>Customer ID</th>\n",
       "      <th>Customer Name</th>\n",
       "      <th>Segment</th>\n",
       "      <th>Country</th>\n",
       "      <th>City</th>\n",
       "      <th>State</th>\n",
       "      <th>Postal Code</th>\n",
       "      <th>Region</th>\n",
       "      <th>Product ID</th>\n",
       "      <th>Category</th>\n",
       "      <th>Sub-Category</th>\n",
       "      <th>Product Name</th>\n",
       "      <th>Sales</th>\n",
       "    </tr>\n",
       "  </thead>\n",
       "  <tbody>\n",
       "    <tr>\n",
       "      <th>0</th>\n",
       "      <td>1</td>\n",
       "      <td>CA-2017-152156</td>\n",
       "      <td>08/11/2017</td>\n",
       "      <td>11/11/2017</td>\n",
       "      <td>Second Class</td>\n",
       "      <td>CG-12520</td>\n",
       "      <td>Claire Gute</td>\n",
       "      <td>Consumer</td>\n",
       "      <td>United States</td>\n",
       "      <td>Henderson</td>\n",
       "      <td>Kentucky</td>\n",
       "      <td>42420.0</td>\n",
       "      <td>South</td>\n",
       "      <td>FUR-BO-10001798</td>\n",
       "      <td>Furniture</td>\n",
       "      <td>Bookcases</td>\n",
       "      <td>Bush Somerset Collection Bookcase</td>\n",
       "      <td>261.9600</td>\n",
       "    </tr>\n",
       "    <tr>\n",
       "      <th>1</th>\n",
       "      <td>2</td>\n",
       "      <td>CA-2017-152156</td>\n",
       "      <td>08/11/2017</td>\n",
       "      <td>11/11/2017</td>\n",
       "      <td>Second Class</td>\n",
       "      <td>CG-12520</td>\n",
       "      <td>Claire Gute</td>\n",
       "      <td>Consumer</td>\n",
       "      <td>United States</td>\n",
       "      <td>Henderson</td>\n",
       "      <td>Kentucky</td>\n",
       "      <td>42420.0</td>\n",
       "      <td>South</td>\n",
       "      <td>FUR-CH-10000454</td>\n",
       "      <td>Furniture</td>\n",
       "      <td>Chairs</td>\n",
       "      <td>Hon Deluxe Fabric Upholstered Stacking Chairs,...</td>\n",
       "      <td>731.9400</td>\n",
       "    </tr>\n",
       "    <tr>\n",
       "      <th>2</th>\n",
       "      <td>3</td>\n",
       "      <td>CA-2017-138688</td>\n",
       "      <td>12/06/2017</td>\n",
       "      <td>16/06/2017</td>\n",
       "      <td>Second Class</td>\n",
       "      <td>DV-13045</td>\n",
       "      <td>Darrin Van Huff</td>\n",
       "      <td>Corporate</td>\n",
       "      <td>United States</td>\n",
       "      <td>Los Angeles</td>\n",
       "      <td>California</td>\n",
       "      <td>90036.0</td>\n",
       "      <td>West</td>\n",
       "      <td>OFF-LA-10000240</td>\n",
       "      <td>Office Supplies</td>\n",
       "      <td>Labels</td>\n",
       "      <td>Self-Adhesive Address Labels for Typewriters b...</td>\n",
       "      <td>14.6200</td>\n",
       "    </tr>\n",
       "    <tr>\n",
       "      <th>3</th>\n",
       "      <td>4</td>\n",
       "      <td>US-2016-108966</td>\n",
       "      <td>11/10/2016</td>\n",
       "      <td>18/10/2016</td>\n",
       "      <td>Standard Class</td>\n",
       "      <td>SO-20335</td>\n",
       "      <td>Sean O'Donnell</td>\n",
       "      <td>Consumer</td>\n",
       "      <td>United States</td>\n",
       "      <td>Fort Lauderdale</td>\n",
       "      <td>Florida</td>\n",
       "      <td>33311.0</td>\n",
       "      <td>South</td>\n",
       "      <td>FUR-TA-10000577</td>\n",
       "      <td>Furniture</td>\n",
       "      <td>Tables</td>\n",
       "      <td>Bretford CR4500 Series Slim Rectangular Table</td>\n",
       "      <td>957.5775</td>\n",
       "    </tr>\n",
       "    <tr>\n",
       "      <th>4</th>\n",
       "      <td>5</td>\n",
       "      <td>US-2016-108966</td>\n",
       "      <td>11/10/2016</td>\n",
       "      <td>18/10/2016</td>\n",
       "      <td>Standard Class</td>\n",
       "      <td>SO-20335</td>\n",
       "      <td>Sean O'Donnell</td>\n",
       "      <td>Consumer</td>\n",
       "      <td>United States</td>\n",
       "      <td>Fort Lauderdale</td>\n",
       "      <td>Florida</td>\n",
       "      <td>33311.0</td>\n",
       "      <td>South</td>\n",
       "      <td>OFF-ST-10000760</td>\n",
       "      <td>Office Supplies</td>\n",
       "      <td>Storage</td>\n",
       "      <td>Eldon Fold 'N Roll Cart System</td>\n",
       "      <td>22.3680</td>\n",
       "    </tr>\n",
       "  </tbody>\n",
       "</table>\n",
       "</div>"
      ],
      "text/plain": [
       "   Row ID        Order ID  Order Date   Ship Date       Ship Mode Customer ID  \\\n",
       "0       1  CA-2017-152156  08/11/2017  11/11/2017    Second Class    CG-12520   \n",
       "1       2  CA-2017-152156  08/11/2017  11/11/2017    Second Class    CG-12520   \n",
       "2       3  CA-2017-138688  12/06/2017  16/06/2017    Second Class    DV-13045   \n",
       "3       4  US-2016-108966  11/10/2016  18/10/2016  Standard Class    SO-20335   \n",
       "4       5  US-2016-108966  11/10/2016  18/10/2016  Standard Class    SO-20335   \n",
       "\n",
       "     Customer Name    Segment        Country             City       State  \\\n",
       "0      Claire Gute   Consumer  United States        Henderson    Kentucky   \n",
       "1      Claire Gute   Consumer  United States        Henderson    Kentucky   \n",
       "2  Darrin Van Huff  Corporate  United States      Los Angeles  California   \n",
       "3   Sean O'Donnell   Consumer  United States  Fort Lauderdale     Florida   \n",
       "4   Sean O'Donnell   Consumer  United States  Fort Lauderdale     Florida   \n",
       "\n",
       "   Postal Code Region       Product ID         Category Sub-Category  \\\n",
       "0      42420.0  South  FUR-BO-10001798        Furniture    Bookcases   \n",
       "1      42420.0  South  FUR-CH-10000454        Furniture       Chairs   \n",
       "2      90036.0   West  OFF-LA-10000240  Office Supplies       Labels   \n",
       "3      33311.0  South  FUR-TA-10000577        Furniture       Tables   \n",
       "4      33311.0  South  OFF-ST-10000760  Office Supplies      Storage   \n",
       "\n",
       "                                        Product Name     Sales  \n",
       "0                  Bush Somerset Collection Bookcase  261.9600  \n",
       "1  Hon Deluxe Fabric Upholstered Stacking Chairs,...  731.9400  \n",
       "2  Self-Adhesive Address Labels for Typewriters b...   14.6200  \n",
       "3      Bretford CR4500 Series Slim Rectangular Table  957.5775  \n",
       "4                     Eldon Fold 'N Roll Cart System   22.3680  "
      ]
     },
     "execution_count": 4,
     "metadata": {},
     "output_type": "execute_result"
    }
   ],
   "source": [
    "df.head()"
   ]
  },
  {
   "cell_type": "code",
   "execution_count": 5,
   "id": "72bc1ca4",
   "metadata": {},
   "outputs": [
    {
     "ename": "ValueError",
     "evalue": "The truth value of a DataFrame is ambiguous. Use a.empty, a.bool(), a.item(), a.any() or a.all().",
     "output_type": "error",
     "traceback": [
      "\u001b[1;31m---------------------------------------------------------------------------\u001b[0m",
      "\u001b[1;31mValueError\u001b[0m                                Traceback (most recent call last)",
      "\u001b[1;32m~\\AppData\\Local\\Temp\\ipykernel_32580\\2716208080.py\u001b[0m in \u001b[0;36m?\u001b[1;34m()\u001b[0m\n\u001b[1;32m----> 1\u001b[1;33m \u001b[0mdf\u001b[0m\u001b[1;33m.\u001b[0m\u001b[0minfo\u001b[0m\u001b[1;33m(\u001b[0m\u001b[0m_\u001b[0m\u001b[1;33m)\u001b[0m\u001b[1;33m\u001b[0m\u001b[1;33m\u001b[0m\u001b[0m\n\u001b[0m",
      "\u001b[1;32mc:\\Users\\HomePC\\anaconda3\\Lib\\site-packages\\pandas\\core\\frame.py\u001b[0m in \u001b[0;36m?\u001b[1;34m(self, verbose, buf, max_cols, memory_usage, show_counts)\u001b[0m\n\u001b[0;32m   3655\u001b[0m         info = DataFrameInfo(\n\u001b[0;32m   3656\u001b[0m             \u001b[0mdata\u001b[0m\u001b[1;33m=\u001b[0m\u001b[0mself\u001b[0m\u001b[1;33m,\u001b[0m\u001b[1;33m\u001b[0m\u001b[1;33m\u001b[0m\u001b[0m\n\u001b[0;32m   3657\u001b[0m             \u001b[0mmemory_usage\u001b[0m\u001b[1;33m=\u001b[0m\u001b[0mmemory_usage\u001b[0m\u001b[1;33m,\u001b[0m\u001b[1;33m\u001b[0m\u001b[1;33m\u001b[0m\u001b[0m\n\u001b[0;32m   3658\u001b[0m         \u001b[1;33m)\u001b[0m\u001b[1;33m\u001b[0m\u001b[1;33m\u001b[0m\u001b[0m\n\u001b[1;32m-> 3659\u001b[1;33m         info.render(\n\u001b[0m\u001b[0;32m   3660\u001b[0m             \u001b[0mbuf\u001b[0m\u001b[1;33m=\u001b[0m\u001b[0mbuf\u001b[0m\u001b[1;33m,\u001b[0m\u001b[1;33m\u001b[0m\u001b[1;33m\u001b[0m\u001b[0m\n\u001b[0;32m   3661\u001b[0m             \u001b[0mmax_cols\u001b[0m\u001b[1;33m=\u001b[0m\u001b[0mmax_cols\u001b[0m\u001b[1;33m,\u001b[0m\u001b[1;33m\u001b[0m\u001b[1;33m\u001b[0m\u001b[0m\n\u001b[0;32m   3662\u001b[0m             \u001b[0mverbose\u001b[0m\u001b[1;33m=\u001b[0m\u001b[0mverbose\u001b[0m\u001b[1;33m,\u001b[0m\u001b[1;33m\u001b[0m\u001b[1;33m\u001b[0m\u001b[0m\n",
      "\u001b[1;32mc:\\Users\\HomePC\\anaconda3\\Lib\\site-packages\\pandas\\io\\formats\\info.py\u001b[0m in \u001b[0;36m?\u001b[1;34m(self, buf, max_cols, verbose, show_counts)\u001b[0m\n\u001b[0;32m    508\u001b[0m             \u001b[0mmax_cols\u001b[0m\u001b[1;33m=\u001b[0m\u001b[0mmax_cols\u001b[0m\u001b[1;33m,\u001b[0m\u001b[1;33m\u001b[0m\u001b[1;33m\u001b[0m\u001b[0m\n\u001b[0;32m    509\u001b[0m             \u001b[0mverbose\u001b[0m\u001b[1;33m=\u001b[0m\u001b[0mverbose\u001b[0m\u001b[1;33m,\u001b[0m\u001b[1;33m\u001b[0m\u001b[1;33m\u001b[0m\u001b[0m\n\u001b[0;32m    510\u001b[0m             \u001b[0mshow_counts\u001b[0m\u001b[1;33m=\u001b[0m\u001b[0mshow_counts\u001b[0m\u001b[1;33m,\u001b[0m\u001b[1;33m\u001b[0m\u001b[1;33m\u001b[0m\u001b[0m\n\u001b[0;32m    511\u001b[0m         \u001b[1;33m)\u001b[0m\u001b[1;33m\u001b[0m\u001b[1;33m\u001b[0m\u001b[0m\n\u001b[1;32m--> 512\u001b[1;33m         \u001b[0mprinter\u001b[0m\u001b[1;33m.\u001b[0m\u001b[0mto_buffer\u001b[0m\u001b[1;33m(\u001b[0m\u001b[0mbuf\u001b[0m\u001b[1;33m)\u001b[0m\u001b[1;33m\u001b[0m\u001b[1;33m\u001b[0m\u001b[0m\n\u001b[0m",
      "\u001b[1;32mc:\\Users\\HomePC\\anaconda3\\Lib\\site-packages\\pandas\\io\\formats\\info.py\u001b[0m in \u001b[0;36m?\u001b[1;34m(self, buf)\u001b[0m\n\u001b[0;32m    580\u001b[0m     \u001b[1;32mdef\u001b[0m \u001b[0mto_buffer\u001b[0m\u001b[1;33m(\u001b[0m\u001b[0mself\u001b[0m\u001b[1;33m,\u001b[0m \u001b[0mbuf\u001b[0m\u001b[1;33m:\u001b[0m \u001b[0mWriteBuffer\u001b[0m\u001b[1;33m[\u001b[0m\u001b[0mstr\u001b[0m\u001b[1;33m]\u001b[0m \u001b[1;33m|\u001b[0m \u001b[1;32mNone\u001b[0m \u001b[1;33m=\u001b[0m \u001b[1;32mNone\u001b[0m\u001b[1;33m)\u001b[0m \u001b[1;33m->\u001b[0m \u001b[1;32mNone\u001b[0m\u001b[1;33m:\u001b[0m\u001b[1;33m\u001b[0m\u001b[1;33m\u001b[0m\u001b[0m\n\u001b[0;32m    581\u001b[0m         \u001b[1;34m\"\"\"Save dataframe info into buffer.\"\"\"\u001b[0m\u001b[1;33m\u001b[0m\u001b[1;33m\u001b[0m\u001b[0m\n\u001b[1;32m--> 582\u001b[1;33m         \u001b[0mtable_builder\u001b[0m \u001b[1;33m=\u001b[0m \u001b[0mself\u001b[0m\u001b[1;33m.\u001b[0m\u001b[0m_create_table_builder\u001b[0m\u001b[1;33m(\u001b[0m\u001b[1;33m)\u001b[0m\u001b[1;33m\u001b[0m\u001b[1;33m\u001b[0m\u001b[0m\n\u001b[0m\u001b[0;32m    583\u001b[0m         \u001b[0mlines\u001b[0m \u001b[1;33m=\u001b[0m \u001b[0mtable_builder\u001b[0m\u001b[1;33m.\u001b[0m\u001b[0mget_lines\u001b[0m\u001b[1;33m(\u001b[0m\u001b[1;33m)\u001b[0m\u001b[1;33m\u001b[0m\u001b[1;33m\u001b[0m\u001b[0m\n\u001b[0;32m    584\u001b[0m         \u001b[1;32mif\u001b[0m \u001b[0mbuf\u001b[0m \u001b[1;32mis\u001b[0m \u001b[1;32mNone\u001b[0m\u001b[1;33m:\u001b[0m  \u001b[1;31m# pragma: no cover\u001b[0m\u001b[1;33m\u001b[0m\u001b[1;33m\u001b[0m\u001b[0m\n\u001b[0;32m    585\u001b[0m             \u001b[0mbuf\u001b[0m \u001b[1;33m=\u001b[0m \u001b[0msys\u001b[0m\u001b[1;33m.\u001b[0m\u001b[0mstdout\u001b[0m\u001b[1;33m\u001b[0m\u001b[1;33m\u001b[0m\u001b[0m\n",
      "\u001b[1;32mc:\\Users\\HomePC\\anaconda3\\Lib\\site-packages\\pandas\\io\\formats\\info.py\u001b[0m in \u001b[0;36m?\u001b[1;34m(self)\u001b[0m\n\u001b[0;32m    653\u001b[0m     \u001b[1;32mdef\u001b[0m \u001b[0m_create_table_builder\u001b[0m\u001b[1;33m(\u001b[0m\u001b[0mself\u001b[0m\u001b[1;33m)\u001b[0m \u001b[1;33m->\u001b[0m \u001b[0m_DataFrameTableBuilder\u001b[0m\u001b[1;33m:\u001b[0m\u001b[1;33m\u001b[0m\u001b[1;33m\u001b[0m\u001b[0m\n\u001b[0;32m    654\u001b[0m         \"\"\"\n\u001b[0;32m    655\u001b[0m         \u001b[0mCreate\u001b[0m \u001b[0minstance\u001b[0m \u001b[0mof\u001b[0m \u001b[0mtable\u001b[0m \u001b[0mbuilder\u001b[0m \u001b[0mbased\u001b[0m \u001b[0mon\u001b[0m \u001b[0mverbosity\u001b[0m \u001b[1;32mand\u001b[0m \u001b[0mdisplay\u001b[0m \u001b[0msettings\u001b[0m\u001b[1;33m.\u001b[0m\u001b[1;33m\u001b[0m\u001b[1;33m\u001b[0m\u001b[0m\n\u001b[0;32m    656\u001b[0m         \"\"\"\n\u001b[1;32m--> 657\u001b[1;33m         \u001b[1;32mif\u001b[0m \u001b[0mself\u001b[0m\u001b[1;33m.\u001b[0m\u001b[0mverbose\u001b[0m\u001b[1;33m:\u001b[0m\u001b[1;33m\u001b[0m\u001b[1;33m\u001b[0m\u001b[0m\n\u001b[0m\u001b[0;32m    658\u001b[0m             return _DataFrameTableBuilderVerbose(\n\u001b[0;32m    659\u001b[0m                 \u001b[0minfo\u001b[0m\u001b[1;33m=\u001b[0m\u001b[0mself\u001b[0m\u001b[1;33m.\u001b[0m\u001b[0minfo\u001b[0m\u001b[1;33m,\u001b[0m\u001b[1;33m\u001b[0m\u001b[1;33m\u001b[0m\u001b[0m\n\u001b[0;32m    660\u001b[0m                 \u001b[0mwith_counts\u001b[0m\u001b[1;33m=\u001b[0m\u001b[0mself\u001b[0m\u001b[1;33m.\u001b[0m\u001b[0mshow_counts\u001b[0m\u001b[1;33m,\u001b[0m\u001b[1;33m\u001b[0m\u001b[1;33m\u001b[0m\u001b[0m\n",
      "\u001b[1;32mc:\\Users\\HomePC\\anaconda3\\Lib\\site-packages\\pandas\\core\\generic.py\u001b[0m in \u001b[0;36m?\u001b[1;34m(self)\u001b[0m\n\u001b[0;32m   1575\u001b[0m     \u001b[1;33m@\u001b[0m\u001b[0mfinal\u001b[0m\u001b[1;33m\u001b[0m\u001b[1;33m\u001b[0m\u001b[0m\n\u001b[0;32m   1576\u001b[0m     \u001b[1;32mdef\u001b[0m \u001b[0m__nonzero__\u001b[0m\u001b[1;33m(\u001b[0m\u001b[0mself\u001b[0m\u001b[1;33m)\u001b[0m \u001b[1;33m->\u001b[0m \u001b[0mNoReturn\u001b[0m\u001b[1;33m:\u001b[0m\u001b[1;33m\u001b[0m\u001b[1;33m\u001b[0m\u001b[0m\n\u001b[1;32m-> 1577\u001b[1;33m         raise ValueError(\n\u001b[0m\u001b[0;32m   1578\u001b[0m             \u001b[1;33mf\"\u001b[0m\u001b[1;33mThe truth value of a \u001b[0m\u001b[1;33m{\u001b[0m\u001b[0mtype\u001b[0m\u001b[1;33m(\u001b[0m\u001b[0mself\u001b[0m\u001b[1;33m)\u001b[0m\u001b[1;33m.\u001b[0m\u001b[0m__name__\u001b[0m\u001b[1;33m}\u001b[0m\u001b[1;33m is ambiguous. \u001b[0m\u001b[1;33m\"\u001b[0m\u001b[1;33m\u001b[0m\u001b[1;33m\u001b[0m\u001b[0m\n\u001b[0;32m   1579\u001b[0m             \u001b[1;34m\"Use a.empty, a.bool(), a.item(), a.any() or a.all().\"\u001b[0m\u001b[1;33m\u001b[0m\u001b[1;33m\u001b[0m\u001b[0m\n\u001b[0;32m   1580\u001b[0m         \u001b[1;33m)\u001b[0m\u001b[1;33m\u001b[0m\u001b[1;33m\u001b[0m\u001b[0m\n",
      "\u001b[1;31mValueError\u001b[0m: The truth value of a DataFrame is ambiguous. Use a.empty, a.bool(), a.item(), a.any() or a.all()."
     ]
    }
   ],
   "source": [
    "df.info(_)"
   ]
  },
  {
   "cell_type": "markdown",
   "id": "30e53ed2",
   "metadata": {},
   "source": [
    "### Filling Null values"
   ]
  },
  {
   "cell_type": "code",
   "execution_count": null,
   "id": "6a85e269",
   "metadata": {},
   "outputs": [
    {
     "name": "stderr",
     "output_type": "stream",
     "text": [
      "C:\\Users\\HomePC\\AppData\\Local\\Temp\\ipykernel_27404\\2039719930.py:1: FutureWarning: A value is trying to be set on a copy of a DataFrame or Series through chained assignment using an inplace method.\n",
      "The behavior will change in pandas 3.0. This inplace method will never work because the intermediate object on which we are setting values always behaves as a copy.\n",
      "\n",
      "For example, when doing 'df[col].method(value, inplace=True)', try using 'df.method({col: value}, inplace=True)' or df[col] = df[col].method(value) instead, to perform the operation inplace on the original object.\n",
      "\n",
      "\n",
      "  df[\"Postal Code\"].fillna(0,  inplace = True)\n"
     ]
    }
   ],
   "source": [
    "df[\"Postal Code\"].fillna(0,  inplace = True)\n",
    "df [\"Postal Code\"] = df[\"Postal Code\"].astype(int)"
   ]
  },
  {
   "cell_type": "code",
   "execution_count": 10,
   "id": "462ea277",
   "metadata": {},
   "outputs": [
    {
     "name": "stdout",
     "output_type": "stream",
     "text": [
      "<class 'pandas.core.frame.DataFrame'>\n",
      "RangeIndex: 9800 entries, 0 to 9799\n",
      "Data columns (total 18 columns):\n",
      " #   Column         Non-Null Count  Dtype  \n",
      "---  ------         --------------  -----  \n",
      " 0   Row ID         9800 non-null   int64  \n",
      " 1   Order ID       9800 non-null   object \n",
      " 2   Order Date     9800 non-null   object \n",
      " 3   Ship Date      9800 non-null   object \n",
      " 4   Ship Mode      9800 non-null   object \n",
      " 5   Customer ID    9800 non-null   object \n",
      " 6   Customer Name  9800 non-null   object \n",
      " 7   Segment        9800 non-null   object \n",
      " 8   Country        9800 non-null   object \n",
      " 9   City           9800 non-null   object \n",
      " 10  State          9800 non-null   object \n",
      " 11  Postal Code    9789 non-null   float64\n",
      " 12  Region         9800 non-null   object \n",
      " 13  Product ID     9800 non-null   object \n",
      " 14  Category       9800 non-null   object \n",
      " 15  Sub-Category   9800 non-null   object \n",
      " 16  Product Name   9800 non-null   object \n",
      " 17  Sales          9800 non-null   float64\n",
      "dtypes: float64(2), int64(1), object(15)\n",
      "memory usage: 1.3+ MB\n"
     ]
    }
   ],
   "source": [
    "df.info()"
   ]
  },
  {
   "cell_type": "markdown",
   "id": "1330e3c6",
   "metadata": {},
   "source": [
    "### Checking for Duplicates"
   ]
  },
  {
   "cell_type": "code",
   "execution_count": 11,
   "id": "6167c46c",
   "metadata": {},
   "outputs": [
    {
     "name": "stdout",
     "output_type": "stream",
     "text": [
      "Doesn't Exist\n"
     ]
    }
   ],
   "source": [
    "if df.duplicated().sum() > 0: #\n",
    "    print(\"Duplicate exists\")\n",
    "else:\n",
    "    print(\"Doesn't Exist\")"
   ]
  },
  {
   "cell_type": "code",
   "execution_count": 6,
   "id": "bc652e14",
   "metadata": {},
   "outputs": [
    {
     "data": {
      "application/vnd.microsoft.datawrangler.viewer.v0+json": {
       "columns": [
        {
         "name": "index",
         "rawType": "int64",
         "type": "integer"
        },
        {
         "name": "Row ID",
         "rawType": "int64",
         "type": "integer"
        },
        {
         "name": "Order ID",
         "rawType": "object",
         "type": "string"
        },
        {
         "name": "Order Date",
         "rawType": "object",
         "type": "string"
        },
        {
         "name": "Ship Date",
         "rawType": "object",
         "type": "string"
        },
        {
         "name": "Ship Mode",
         "rawType": "object",
         "type": "string"
        },
        {
         "name": "Customer ID",
         "rawType": "object",
         "type": "string"
        },
        {
         "name": "Customer Name",
         "rawType": "object",
         "type": "string"
        },
        {
         "name": "Segment",
         "rawType": "object",
         "type": "string"
        },
        {
         "name": "Country",
         "rawType": "object",
         "type": "string"
        },
        {
         "name": "City",
         "rawType": "object",
         "type": "string"
        },
        {
         "name": "State",
         "rawType": "object",
         "type": "string"
        },
        {
         "name": "Postal Code",
         "rawType": "float64",
         "type": "float"
        },
        {
         "name": "Region",
         "rawType": "object",
         "type": "string"
        },
        {
         "name": "Product ID",
         "rawType": "object",
         "type": "string"
        },
        {
         "name": "Category",
         "rawType": "object",
         "type": "string"
        },
        {
         "name": "Sub-Category",
         "rawType": "object",
         "type": "string"
        },
        {
         "name": "Product Name",
         "rawType": "object",
         "type": "string"
        },
        {
         "name": "Sales",
         "rawType": "float64",
         "type": "float"
        }
       ],
       "ref": "fae897cd-1f7d-4309-920e-fb9835054c13",
       "rows": [
        [
         "0",
         "1",
         "CA-2017-152156",
         "08/11/2017",
         "11/11/2017",
         "Second Class",
         "CG-12520",
         "Claire Gute",
         "Consumer",
         "United States",
         "Henderson",
         "Kentucky",
         "42420.0",
         "South",
         "FUR-BO-10001798",
         "Furniture",
         "Bookcases",
         "Bush Somerset Collection Bookcase",
         "261.96"
        ],
        [
         "1",
         "2",
         "CA-2017-152156",
         "08/11/2017",
         "11/11/2017",
         "Second Class",
         "CG-12520",
         "Claire Gute",
         "Consumer",
         "United States",
         "Henderson",
         "Kentucky",
         "42420.0",
         "South",
         "FUR-CH-10000454",
         "Furniture",
         "Chairs",
         "Hon Deluxe Fabric Upholstered Stacking Chairs, Rounded Back",
         "731.94"
        ],
        [
         "2",
         "3",
         "CA-2017-138688",
         "12/06/2017",
         "16/06/2017",
         "Second Class",
         "DV-13045",
         "Darrin Van Huff",
         "Corporate",
         "United States",
         "Los Angeles",
         "California",
         "90036.0",
         "West",
         "OFF-LA-10000240",
         "Office Supplies",
         "Labels",
         "Self-Adhesive Address Labels for Typewriters by Universal",
         "14.62"
        ],
        [
         "3",
         "4",
         "US-2016-108966",
         "11/10/2016",
         "18/10/2016",
         "Standard Class",
         "SO-20335",
         "Sean O'Donnell",
         "Consumer",
         "United States",
         "Fort Lauderdale",
         "Florida",
         "33311.0",
         "South",
         "FUR-TA-10000577",
         "Furniture",
         "Tables",
         "Bretford CR4500 Series Slim Rectangular Table",
         "957.5775"
        ],
        [
         "4",
         "5",
         "US-2016-108966",
         "11/10/2016",
         "18/10/2016",
         "Standard Class",
         "SO-20335",
         "Sean O'Donnell",
         "Consumer",
         "United States",
         "Fort Lauderdale",
         "Florida",
         "33311.0",
         "South",
         "OFF-ST-10000760",
         "Office Supplies",
         "Storage",
         "Eldon Fold 'N Roll Cart System",
         "22.368"
        ],
        [
         "5",
         "6",
         "CA-2015-115812",
         "09/06/2015",
         "14/06/2015",
         "Standard Class",
         "BH-11710",
         "Brosina Hoffman",
         "Consumer",
         "United States",
         "Los Angeles",
         "California",
         "90032.0",
         "West",
         "FUR-FU-10001487",
         "Furniture",
         "Furnishings",
         "Eldon Expressions Wood and Plastic Desk Accessories, Cherry Wood",
         "48.86"
        ],
        [
         "6",
         "7",
         "CA-2015-115812",
         "09/06/2015",
         "14/06/2015",
         "Standard Class",
         "BH-11710",
         "Brosina Hoffman",
         "Consumer",
         "United States",
         "Los Angeles",
         "California",
         "90032.0",
         "West",
         "OFF-AR-10002833",
         "Office Supplies",
         "Art",
         "Newell 322",
         "7.28"
        ],
        [
         "7",
         "8",
         "CA-2015-115812",
         "09/06/2015",
         "14/06/2015",
         "Standard Class",
         "BH-11710",
         "Brosina Hoffman",
         "Consumer",
         "United States",
         "Los Angeles",
         "California",
         "90032.0",
         "West",
         "TEC-PH-10002275",
         "Technology",
         "Phones",
         "Mitel 5320 IP Phone VoIP phone",
         "907.152"
        ],
        [
         "8",
         "9",
         "CA-2015-115812",
         "09/06/2015",
         "14/06/2015",
         "Standard Class",
         "BH-11710",
         "Brosina Hoffman",
         "Consumer",
         "United States",
         "Los Angeles",
         "California",
         "90032.0",
         "West",
         "OFF-BI-10003910",
         "Office Supplies",
         "Binders",
         "DXL Angle-View Binders with Locking Rings by Samsill",
         "18.504"
        ],
        [
         "9",
         "10",
         "CA-2015-115812",
         "09/06/2015",
         "14/06/2015",
         "Standard Class",
         "BH-11710",
         "Brosina Hoffman",
         "Consumer",
         "United States",
         "Los Angeles",
         "California",
         "90032.0",
         "West",
         "OFF-AP-10002892",
         "Office Supplies",
         "Appliances",
         "Belkin F5C206VTEL 6 Outlet Surge",
         "114.9"
        ],
        [
         "10",
         "11",
         "CA-2015-115812",
         "09/06/2015",
         "14/06/2015",
         "Standard Class",
         "BH-11710",
         "Brosina Hoffman",
         "Consumer",
         "United States",
         "Los Angeles",
         "California",
         "90032.0",
         "West",
         "FUR-TA-10001539",
         "Furniture",
         "Tables",
         "Chromcraft Rectangular Conference Tables",
         "1706.184"
        ],
        [
         "11",
         "12",
         "CA-2015-115812",
         "09/06/2015",
         "14/06/2015",
         "Standard Class",
         "BH-11710",
         "Brosina Hoffman",
         "Consumer",
         "United States",
         "Los Angeles",
         "California",
         "90032.0",
         "West",
         "TEC-PH-10002033",
         "Technology",
         "Phones",
         "Konftel 250 Conference phone - Charcoal black",
         "911.424"
        ],
        [
         "12",
         "13",
         "CA-2018-114412",
         "15/04/2018",
         "20/04/2018",
         "Standard Class",
         "AA-10480",
         "Andrew Allen",
         "Consumer",
         "United States",
         "Concord",
         "North Carolina",
         "28027.0",
         "South",
         "OFF-PA-10002365",
         "Office Supplies",
         "Paper",
         "Xerox 1967",
         "15.552"
        ],
        [
         "13",
         "14",
         "CA-2017-161389",
         "05/12/2017",
         "10/12/2017",
         "Standard Class",
         "IM-15070",
         "Irene Maddox",
         "Consumer",
         "United States",
         "Seattle",
         "Washington",
         "98103.0",
         "West",
         "OFF-BI-10003656",
         "Office Supplies",
         "Binders",
         "Fellowes PB200 Plastic Comb Binding Machine",
         "407.976"
        ],
        [
         "14",
         "15",
         "US-2016-118983",
         "22/11/2016",
         "26/11/2016",
         "Standard Class",
         "HP-14815",
         "Harold Pawlan",
         "Home Office",
         "United States",
         "Fort Worth",
         "Texas",
         "76106.0",
         "Central",
         "OFF-AP-10002311",
         "Office Supplies",
         "Appliances",
         "Holmes Replacement Filter for HEPA Air Cleaner, Very Large Room, HEPA Filter",
         "68.81"
        ],
        [
         "15",
         "16",
         "US-2016-118983",
         "22/11/2016",
         "26/11/2016",
         "Standard Class",
         "HP-14815",
         "Harold Pawlan",
         "Home Office",
         "United States",
         "Fort Worth",
         "Texas",
         "76106.0",
         "Central",
         "OFF-BI-10000756",
         "Office Supplies",
         "Binders",
         "Storex DuraTech Recycled Plastic Frosted Binders",
         "2.544"
        ],
        [
         "16",
         "17",
         "CA-2015-105893",
         "11/11/2015",
         "18/11/2015",
         "Standard Class",
         "PK-19075",
         "Pete Kriz",
         "Consumer",
         "United States",
         "Madison",
         "Wisconsin",
         "53711.0",
         "Central",
         "OFF-ST-10004186",
         "Office Supplies",
         "Storage",
         "Stur-D-Stor Shelving, Vertical 5-Shelf: 72\"H x 36\"W x 18 1/2\"D",
         "665.88"
        ],
        [
         "17",
         "18",
         "CA-2015-167164",
         "13/05/2015",
         "15/05/2015",
         "Second Class",
         "AG-10270",
         "Alejandro Grove",
         "Consumer",
         "United States",
         "West Jordan",
         "Utah",
         "84084.0",
         "West",
         "OFF-ST-10000107",
         "Office Supplies",
         "Storage",
         "Fellowes Super Stor/Drawer",
         "55.5"
        ],
        [
         "18",
         "19",
         "CA-2015-143336",
         "27/08/2015",
         "01/09/2015",
         "Second Class",
         "ZD-21925",
         "Zuschuss Donatelli",
         "Consumer",
         "United States",
         "San Francisco",
         "California",
         "94109.0",
         "West",
         "OFF-AR-10003056",
         "Office Supplies",
         "Art",
         "Newell 341",
         "8.56"
        ],
        [
         "19",
         "20",
         "CA-2015-143336",
         "27/08/2015",
         "01/09/2015",
         "Second Class",
         "ZD-21925",
         "Zuschuss Donatelli",
         "Consumer",
         "United States",
         "San Francisco",
         "California",
         "94109.0",
         "West",
         "TEC-PH-10001949",
         "Technology",
         "Phones",
         "Cisco SPA 501G IP Phone",
         "213.48"
        ],
        [
         "20",
         "21",
         "CA-2015-143336",
         "27/08/2015",
         "01/09/2015",
         "Second Class",
         "ZD-21925",
         "Zuschuss Donatelli",
         "Consumer",
         "United States",
         "San Francisco",
         "California",
         "94109.0",
         "West",
         "OFF-BI-10002215",
         "Office Supplies",
         "Binders",
         "Wilson Jones Hanging View Binder, White, 1\"",
         "22.72"
        ],
        [
         "21",
         "22",
         "CA-2017-137330",
         "09/12/2017",
         "13/12/2017",
         "Standard Class",
         "KB-16585",
         "Ken Black",
         "Corporate",
         "United States",
         "Fremont",
         "Nebraska",
         "68025.0",
         "Central",
         "OFF-AR-10000246",
         "Office Supplies",
         "Art",
         "Newell 318",
         "19.46"
        ],
        [
         "22",
         "23",
         "CA-2017-137330",
         "09/12/2017",
         "13/12/2017",
         "Standard Class",
         "KB-16585",
         "Ken Black",
         "Corporate",
         "United States",
         "Fremont",
         "Nebraska",
         "68025.0",
         "Central",
         "OFF-AP-10001492",
         "Office Supplies",
         "Appliances",
         "Acco Six-Outlet Power Strip, 4' Cord Length",
         "60.34"
        ],
        [
         "23",
         "24",
         "US-2018-156909",
         "16/07/2018",
         "18/07/2018",
         "Second Class",
         "SF-20065",
         "Sandra Flanagan",
         "Consumer",
         "United States",
         "Philadelphia",
         "Pennsylvania",
         "19140.0",
         "East",
         "FUR-CH-10002774",
         "Furniture",
         "Chairs",
         "Global Deluxe Stacking Chair, Gray",
         "71.372"
        ],
        [
         "24",
         "25",
         "CA-2016-106320",
         "25/09/2016",
         "30/09/2016",
         "Standard Class",
         "EB-13870",
         "Emily Burns",
         "Consumer",
         "United States",
         "Orem",
         "Utah",
         "84057.0",
         "West",
         "FUR-TA-10000577",
         "Furniture",
         "Tables",
         "Bretford CR4500 Series Slim Rectangular Table",
         "1044.63"
        ],
        [
         "25",
         "26",
         "CA-2017-121755",
         "16/01/2017",
         "20/01/2017",
         "Second Class",
         "EH-13945",
         "Eric Hoffmann",
         "Consumer",
         "United States",
         "Los Angeles",
         "California",
         "90049.0",
         "West",
         "OFF-BI-10001634",
         "Office Supplies",
         "Binders",
         "Wilson Jones Active Use Binders",
         "11.648"
        ],
        [
         "26",
         "27",
         "CA-2017-121755",
         "16/01/2017",
         "20/01/2017",
         "Second Class",
         "EH-13945",
         "Eric Hoffmann",
         "Consumer",
         "United States",
         "Los Angeles",
         "California",
         "90049.0",
         "West",
         "TEC-AC-10003027",
         "Technology",
         "Accessories",
         "Imation 8GB Mini TravelDrive USB 2.0 Flash Drive",
         "90.57"
        ],
        [
         "27",
         "28",
         "US-2016-150630",
         "17/09/2016",
         "21/09/2016",
         "Standard Class",
         "TB-21520",
         "Tracy Blumstein",
         "Consumer",
         "United States",
         "Philadelphia",
         "Pennsylvania",
         "19140.0",
         "East",
         "FUR-BO-10004834",
         "Furniture",
         "Bookcases",
         "Riverside Palais Royal Lawyers Bookcase, Royale Cherry Finish",
         "3083.43"
        ],
        [
         "28",
         "29",
         "US-2016-150630",
         "17/09/2016",
         "21/09/2016",
         "Standard Class",
         "TB-21520",
         "Tracy Blumstein",
         "Consumer",
         "United States",
         "Philadelphia",
         "Pennsylvania",
         "19140.0",
         "East",
         "OFF-BI-10000474",
         "Office Supplies",
         "Binders",
         "Avery Recycled Flexi-View Covers for Binding Systems",
         "9.618"
        ],
        [
         "29",
         "30",
         "US-2016-150630",
         "17/09/2016",
         "21/09/2016",
         "Standard Class",
         "TB-21520",
         "Tracy Blumstein",
         "Consumer",
         "United States",
         "Philadelphia",
         "Pennsylvania",
         "19140.0",
         "East",
         "FUR-FU-10004848",
         "Furniture",
         "Furnishings",
         "Howard Miller 13-3/4\" Diameter Brushed Chrome Round Wall Clock",
         "124.2"
        ],
        [
         "30",
         "31",
         "US-2016-150630",
         "17/09/2016",
         "21/09/2016",
         "Standard Class",
         "TB-21520",
         "Tracy Blumstein",
         "Consumer",
         "United States",
         "Philadelphia",
         "Pennsylvania",
         "19140.0",
         "East",
         "OFF-EN-10001509",
         "Office Supplies",
         "Envelopes",
         "Poly String Tie Envelopes",
         "3.264"
        ],
        [
         "31",
         "32",
         "US-2016-150630",
         "17/09/2016",
         "21/09/2016",
         "Standard Class",
         "TB-21520",
         "Tracy Blumstein",
         "Consumer",
         "United States",
         "Philadelphia",
         "Pennsylvania",
         "19140.0",
         "East",
         "OFF-AR-10004042",
         "Office Supplies",
         "Art",
         "BOSTON Model 1800 Electric Pencil Sharpeners, Putty/Woodgrain",
         "86.304"
        ],
        [
         "32",
         "33",
         "US-2016-150630",
         "17/09/2016",
         "21/09/2016",
         "Standard Class",
         "TB-21520",
         "Tracy Blumstein",
         "Consumer",
         "United States",
         "Philadelphia",
         "Pennsylvania",
         "19140.0",
         "East",
         "OFF-BI-10001525",
         "Office Supplies",
         "Binders",
         "Acco Pressboard Covers with Storage Hooks, 14 7/8\" x 11\", Executive Red",
         "6.858"
        ],
        [
         "33",
         "34",
         "US-2016-150630",
         "17/09/2016",
         "21/09/2016",
         "Standard Class",
         "TB-21520",
         "Tracy Blumstein",
         "Consumer",
         "United States",
         "Philadelphia",
         "Pennsylvania",
         "19140.0",
         "East",
         "OFF-AR-10001683",
         "Office Supplies",
         "Art",
         "Lumber Crayons",
         "15.76"
        ],
        [
         "34",
         "35",
         "CA-2018-107727",
         "19/10/2018",
         "23/10/2018",
         "Second Class",
         "MA-17560",
         "Matt Abelman",
         "Home Office",
         "United States",
         "Houston",
         "Texas",
         "77095.0",
         "Central",
         "OFF-PA-10000249",
         "Office Supplies",
         "Paper",
         "Easy-staple paper",
         "29.472"
        ],
        [
         "35",
         "36",
         "CA-2017-117590",
         "08/12/2017",
         "10/12/2017",
         "First Class",
         "GH-14485",
         "Gene Hale",
         "Corporate",
         "United States",
         "Richardson",
         "Texas",
         "75080.0",
         "Central",
         "TEC-PH-10004977",
         "Technology",
         "Phones",
         "GE 30524EE4",
         "1097.544"
        ],
        [
         "36",
         "37",
         "CA-2017-117590",
         "08/12/2017",
         "10/12/2017",
         "First Class",
         "GH-14485",
         "Gene Hale",
         "Corporate",
         "United States",
         "Richardson",
         "Texas",
         "75080.0",
         "Central",
         "FUR-FU-10003664",
         "Furniture",
         "Furnishings",
         "Electrix Architect's Clamp-On Swing Arm Lamp, Black",
         "190.92"
        ],
        [
         "37",
         "38",
         "CA-2016-117415",
         "27/12/2016",
         "31/12/2016",
         "Standard Class",
         "SN-20710",
         "Steve Nguyen",
         "Home Office",
         "United States",
         "Houston",
         "Texas",
         "77041.0",
         "Central",
         "OFF-EN-10002986",
         "Office Supplies",
         "Envelopes",
         "#10-4 1/8\" x 9 1/2\" Premium Diagonal Seam Envelopes",
         "113.328"
        ],
        [
         "38",
         "39",
         "CA-2016-117415",
         "27/12/2016",
         "31/12/2016",
         "Standard Class",
         "SN-20710",
         "Steve Nguyen",
         "Home Office",
         "United States",
         "Houston",
         "Texas",
         "77041.0",
         "Central",
         "FUR-BO-10002545",
         "Furniture",
         "Bookcases",
         "Atlantic Metals Mobile 3-Shelf Bookcases, Custom Colors",
         "532.3992"
        ],
        [
         "39",
         "40",
         "CA-2016-117415",
         "27/12/2016",
         "31/12/2016",
         "Standard Class",
         "SN-20710",
         "Steve Nguyen",
         "Home Office",
         "United States",
         "Houston",
         "Texas",
         "77041.0",
         "Central",
         "FUR-CH-10004218",
         "Furniture",
         "Chairs",
         "Global Fabric Manager's Chair, Dark Gray",
         "212.058"
        ],
        [
         "40",
         "41",
         "CA-2016-117415",
         "27/12/2016",
         "31/12/2016",
         "Standard Class",
         "SN-20710",
         "Steve Nguyen",
         "Home Office",
         "United States",
         "Houston",
         "Texas",
         "77041.0",
         "Central",
         "TEC-PH-10000486",
         "Technology",
         "Phones",
         "Plantronics HL10 Handset Lifter",
         "371.168"
        ],
        [
         "41",
         "42",
         "CA-2018-120999",
         "10/09/2018",
         "15/09/2018",
         "Standard Class",
         "LC-16930",
         "Linda Cazamias",
         "Corporate",
         "United States",
         "Naperville",
         "Illinois",
         "60540.0",
         "Central",
         "TEC-PH-10004093",
         "Technology",
         "Phones",
         "Panasonic Kx-TS550",
         "147.168"
        ],
        [
         "42",
         "43",
         "CA-2017-101343",
         "17/07/2017",
         "22/07/2017",
         "Standard Class",
         "RA-19885",
         "Ruben Ausman",
         "Corporate",
         "United States",
         "Los Angeles",
         "California",
         "90049.0",
         "West",
         "OFF-ST-10003479",
         "Office Supplies",
         "Storage",
         "Eldon Base for stackable storage shelf, platinum",
         "77.88"
        ],
        [
         "43",
         "44",
         "CA-2018-139619",
         "19/09/2018",
         "23/09/2018",
         "Standard Class",
         "ES-14080",
         "Erin Smith",
         "Corporate",
         "United States",
         "Melbourne",
         "Florida",
         "32935.0",
         "South",
         "OFF-ST-10003282",
         "Office Supplies",
         "Storage",
         "Advantus 10-Drawer Portable Organizer, Chrome Metal Frame, Smoke Drawers",
         "95.616"
        ],
        [
         "44",
         "45",
         "CA-2017-118255",
         "11/03/2017",
         "13/03/2017",
         "First Class",
         "ON-18715",
         "Odella Nelson",
         "Corporate",
         "United States",
         "Eagan",
         "Minnesota",
         "55122.0",
         "Central",
         "TEC-AC-10000171",
         "Technology",
         "Accessories",
         "Verbatim 25 GB 6x Blu-ray Single Layer Recordable Disc, 25/Pack",
         "45.98"
        ],
        [
         "45",
         "46",
         "CA-2017-118255",
         "11/03/2017",
         "13/03/2017",
         "First Class",
         "ON-18715",
         "Odella Nelson",
         "Corporate",
         "United States",
         "Eagan",
         "Minnesota",
         "55122.0",
         "Central",
         "OFF-BI-10003291",
         "Office Supplies",
         "Binders",
         "Wilson Jones Leather-Like Binders with DublLock Round Rings",
         "17.46"
        ],
        [
         "46",
         "47",
         "CA-2015-146703",
         "20/10/2015",
         "25/10/2015",
         "Second Class",
         "PO-18865",
         "Patrick O'Donnell",
         "Consumer",
         "United States",
         "Westland",
         "Michigan",
         "48185.0",
         "Central",
         "OFF-ST-10001713",
         "Office Supplies",
         "Storage",
         "Gould Plastics 9-Pocket Panel Bin, 18-3/8w x 5-1/4d x 20-1/2h, Black",
         "211.96"
        ],
        [
         "47",
         "48",
         "CA-2017-169194",
         "20/06/2017",
         "25/06/2017",
         "Standard Class",
         "LH-16900",
         "Lena Hernandez",
         "Consumer",
         "United States",
         "Dover",
         "Delaware",
         "19901.0",
         "East",
         "TEC-AC-10002167",
         "Technology",
         "Accessories",
         "Imation 8gb Micro Traveldrive Usb 2.0 Flash Drive",
         "45.0"
        ],
        [
         "48",
         "49",
         "CA-2017-169194",
         "20/06/2017",
         "25/06/2017",
         "Standard Class",
         "LH-16900",
         "Lena Hernandez",
         "Consumer",
         "United States",
         "Dover",
         "Delaware",
         "19901.0",
         "East",
         "TEC-PH-10003988",
         "Technology",
         "Phones",
         "LF Elite 3D Dazzle Designer Hard Case Cover, Lf Stylus Pen and Wiper For Apple Iphone 5c Mini Lite",
         "21.8"
        ],
        [
         "49",
         "50",
         "CA-2016-115742",
         "18/04/2016",
         "22/04/2016",
         "Standard Class",
         "DP-13000",
         "Darren Powers",
         "Consumer",
         "United States",
         "New Albany",
         "Indiana",
         "47150.0",
         "Central",
         "OFF-BI-10004410",
         "Office Supplies",
         "Binders",
         "C-Line Peel & Stick Add-On Filing Pockets, 8-3/4 x 5-1/8, 10/Pack",
         "38.22"
        ]
       ],
       "shape": {
        "columns": 18,
        "rows": 100
       }
      },
      "text/html": [
       "<div>\n",
       "<style scoped>\n",
       "    .dataframe tbody tr th:only-of-type {\n",
       "        vertical-align: middle;\n",
       "    }\n",
       "\n",
       "    .dataframe tbody tr th {\n",
       "        vertical-align: top;\n",
       "    }\n",
       "\n",
       "    .dataframe thead th {\n",
       "        text-align: right;\n",
       "    }\n",
       "</style>\n",
       "<table border=\"1\" class=\"dataframe\">\n",
       "  <thead>\n",
       "    <tr style=\"text-align: right;\">\n",
       "      <th></th>\n",
       "      <th>Row ID</th>\n",
       "      <th>Order ID</th>\n",
       "      <th>Order Date</th>\n",
       "      <th>Ship Date</th>\n",
       "      <th>Ship Mode</th>\n",
       "      <th>Customer ID</th>\n",
       "      <th>Customer Name</th>\n",
       "      <th>Segment</th>\n",
       "      <th>Country</th>\n",
       "      <th>City</th>\n",
       "      <th>State</th>\n",
       "      <th>Postal Code</th>\n",
       "      <th>Region</th>\n",
       "      <th>Product ID</th>\n",
       "      <th>Category</th>\n",
       "      <th>Sub-Category</th>\n",
       "      <th>Product Name</th>\n",
       "      <th>Sales</th>\n",
       "    </tr>\n",
       "  </thead>\n",
       "  <tbody>\n",
       "    <tr>\n",
       "      <th>0</th>\n",
       "      <td>1</td>\n",
       "      <td>CA-2017-152156</td>\n",
       "      <td>08/11/2017</td>\n",
       "      <td>11/11/2017</td>\n",
       "      <td>Second Class</td>\n",
       "      <td>CG-12520</td>\n",
       "      <td>Claire Gute</td>\n",
       "      <td>Consumer</td>\n",
       "      <td>United States</td>\n",
       "      <td>Henderson</td>\n",
       "      <td>Kentucky</td>\n",
       "      <td>42420.0</td>\n",
       "      <td>South</td>\n",
       "      <td>FUR-BO-10001798</td>\n",
       "      <td>Furniture</td>\n",
       "      <td>Bookcases</td>\n",
       "      <td>Bush Somerset Collection Bookcase</td>\n",
       "      <td>261.9600</td>\n",
       "    </tr>\n",
       "    <tr>\n",
       "      <th>1</th>\n",
       "      <td>2</td>\n",
       "      <td>CA-2017-152156</td>\n",
       "      <td>08/11/2017</td>\n",
       "      <td>11/11/2017</td>\n",
       "      <td>Second Class</td>\n",
       "      <td>CG-12520</td>\n",
       "      <td>Claire Gute</td>\n",
       "      <td>Consumer</td>\n",
       "      <td>United States</td>\n",
       "      <td>Henderson</td>\n",
       "      <td>Kentucky</td>\n",
       "      <td>42420.0</td>\n",
       "      <td>South</td>\n",
       "      <td>FUR-CH-10000454</td>\n",
       "      <td>Furniture</td>\n",
       "      <td>Chairs</td>\n",
       "      <td>Hon Deluxe Fabric Upholstered Stacking Chairs,...</td>\n",
       "      <td>731.9400</td>\n",
       "    </tr>\n",
       "    <tr>\n",
       "      <th>2</th>\n",
       "      <td>3</td>\n",
       "      <td>CA-2017-138688</td>\n",
       "      <td>12/06/2017</td>\n",
       "      <td>16/06/2017</td>\n",
       "      <td>Second Class</td>\n",
       "      <td>DV-13045</td>\n",
       "      <td>Darrin Van Huff</td>\n",
       "      <td>Corporate</td>\n",
       "      <td>United States</td>\n",
       "      <td>Los Angeles</td>\n",
       "      <td>California</td>\n",
       "      <td>90036.0</td>\n",
       "      <td>West</td>\n",
       "      <td>OFF-LA-10000240</td>\n",
       "      <td>Office Supplies</td>\n",
       "      <td>Labels</td>\n",
       "      <td>Self-Adhesive Address Labels for Typewriters b...</td>\n",
       "      <td>14.6200</td>\n",
       "    </tr>\n",
       "    <tr>\n",
       "      <th>3</th>\n",
       "      <td>4</td>\n",
       "      <td>US-2016-108966</td>\n",
       "      <td>11/10/2016</td>\n",
       "      <td>18/10/2016</td>\n",
       "      <td>Standard Class</td>\n",
       "      <td>SO-20335</td>\n",
       "      <td>Sean O'Donnell</td>\n",
       "      <td>Consumer</td>\n",
       "      <td>United States</td>\n",
       "      <td>Fort Lauderdale</td>\n",
       "      <td>Florida</td>\n",
       "      <td>33311.0</td>\n",
       "      <td>South</td>\n",
       "      <td>FUR-TA-10000577</td>\n",
       "      <td>Furniture</td>\n",
       "      <td>Tables</td>\n",
       "      <td>Bretford CR4500 Series Slim Rectangular Table</td>\n",
       "      <td>957.5775</td>\n",
       "    </tr>\n",
       "    <tr>\n",
       "      <th>4</th>\n",
       "      <td>5</td>\n",
       "      <td>US-2016-108966</td>\n",
       "      <td>11/10/2016</td>\n",
       "      <td>18/10/2016</td>\n",
       "      <td>Standard Class</td>\n",
       "      <td>SO-20335</td>\n",
       "      <td>Sean O'Donnell</td>\n",
       "      <td>Consumer</td>\n",
       "      <td>United States</td>\n",
       "      <td>Fort Lauderdale</td>\n",
       "      <td>Florida</td>\n",
       "      <td>33311.0</td>\n",
       "      <td>South</td>\n",
       "      <td>OFF-ST-10000760</td>\n",
       "      <td>Office Supplies</td>\n",
       "      <td>Storage</td>\n",
       "      <td>Eldon Fold 'N Roll Cart System</td>\n",
       "      <td>22.3680</td>\n",
       "    </tr>\n",
       "    <tr>\n",
       "      <th>...</th>\n",
       "      <td>...</td>\n",
       "      <td>...</td>\n",
       "      <td>...</td>\n",
       "      <td>...</td>\n",
       "      <td>...</td>\n",
       "      <td>...</td>\n",
       "      <td>...</td>\n",
       "      <td>...</td>\n",
       "      <td>...</td>\n",
       "      <td>...</td>\n",
       "      <td>...</td>\n",
       "      <td>...</td>\n",
       "      <td>...</td>\n",
       "      <td>...</td>\n",
       "      <td>...</td>\n",
       "      <td>...</td>\n",
       "      <td>...</td>\n",
       "      <td>...</td>\n",
       "    </tr>\n",
       "    <tr>\n",
       "      <th>95</th>\n",
       "      <td>96</td>\n",
       "      <td>US-2018-109484</td>\n",
       "      <td>06/11/2018</td>\n",
       "      <td>12/11/2018</td>\n",
       "      <td>Standard Class</td>\n",
       "      <td>RB-19705</td>\n",
       "      <td>Roger Barcio</td>\n",
       "      <td>Home Office</td>\n",
       "      <td>United States</td>\n",
       "      <td>Portland</td>\n",
       "      <td>Oregon</td>\n",
       "      <td>97206.0</td>\n",
       "      <td>West</td>\n",
       "      <td>OFF-BI-10004738</td>\n",
       "      <td>Office Supplies</td>\n",
       "      <td>Binders</td>\n",
       "      <td>Flexible Leather- Look Classic Collection Ring...</td>\n",
       "      <td>5.6820</td>\n",
       "    </tr>\n",
       "    <tr>\n",
       "      <th>96</th>\n",
       "      <td>97</td>\n",
       "      <td>CA-2018-161018</td>\n",
       "      <td>09/11/2018</td>\n",
       "      <td>11/11/2018</td>\n",
       "      <td>Second Class</td>\n",
       "      <td>PN-18775</td>\n",
       "      <td>Parhena Norris</td>\n",
       "      <td>Home Office</td>\n",
       "      <td>United States</td>\n",
       "      <td>New York City</td>\n",
       "      <td>New York</td>\n",
       "      <td>10009.0</td>\n",
       "      <td>East</td>\n",
       "      <td>FUR-FU-10000629</td>\n",
       "      <td>Furniture</td>\n",
       "      <td>Furnishings</td>\n",
       "      <td>9-3/4 Diameter Round Wall Clock</td>\n",
       "      <td>96.5300</td>\n",
       "    </tr>\n",
       "    <tr>\n",
       "      <th>97</th>\n",
       "      <td>98</td>\n",
       "      <td>CA-2018-157833</td>\n",
       "      <td>17/06/2018</td>\n",
       "      <td>20/06/2018</td>\n",
       "      <td>First Class</td>\n",
       "      <td>KD-16345</td>\n",
       "      <td>Katherine Ducich</td>\n",
       "      <td>Consumer</td>\n",
       "      <td>United States</td>\n",
       "      <td>San Francisco</td>\n",
       "      <td>California</td>\n",
       "      <td>94122.0</td>\n",
       "      <td>West</td>\n",
       "      <td>OFF-BI-10001721</td>\n",
       "      <td>Office Supplies</td>\n",
       "      <td>Binders</td>\n",
       "      <td>Trimflex Flexible Post Binders</td>\n",
       "      <td>51.3120</td>\n",
       "    </tr>\n",
       "    <tr>\n",
       "      <th>98</th>\n",
       "      <td>99</td>\n",
       "      <td>CA-2017-149223</td>\n",
       "      <td>06/09/2017</td>\n",
       "      <td>11/09/2017</td>\n",
       "      <td>Standard Class</td>\n",
       "      <td>ER-13855</td>\n",
       "      <td>Elpida Rittenbach</td>\n",
       "      <td>Corporate</td>\n",
       "      <td>United States</td>\n",
       "      <td>Saint Paul</td>\n",
       "      <td>Minnesota</td>\n",
       "      <td>55106.0</td>\n",
       "      <td>Central</td>\n",
       "      <td>OFF-AP-10000358</td>\n",
       "      <td>Office Supplies</td>\n",
       "      <td>Appliances</td>\n",
       "      <td>Fellowes Basic Home/Office Series Surge Protec...</td>\n",
       "      <td>77.8800</td>\n",
       "    </tr>\n",
       "    <tr>\n",
       "      <th>99</th>\n",
       "      <td>100</td>\n",
       "      <td>CA-2017-158568</td>\n",
       "      <td>29/08/2017</td>\n",
       "      <td>02/09/2017</td>\n",
       "      <td>Standard Class</td>\n",
       "      <td>RB-19465</td>\n",
       "      <td>Rick Bensley</td>\n",
       "      <td>Home Office</td>\n",
       "      <td>United States</td>\n",
       "      <td>Chicago</td>\n",
       "      <td>Illinois</td>\n",
       "      <td>60610.0</td>\n",
       "      <td>Central</td>\n",
       "      <td>OFF-PA-10003256</td>\n",
       "      <td>Office Supplies</td>\n",
       "      <td>Paper</td>\n",
       "      <td>Avery Personal Creations Heavyweight Cards</td>\n",
       "      <td>64.6240</td>\n",
       "    </tr>\n",
       "  </tbody>\n",
       "</table>\n",
       "<p>100 rows × 18 columns</p>\n",
       "</div>"
      ],
      "text/plain": [
       "    Row ID        Order ID  Order Date   Ship Date       Ship Mode  \\\n",
       "0        1  CA-2017-152156  08/11/2017  11/11/2017    Second Class   \n",
       "1        2  CA-2017-152156  08/11/2017  11/11/2017    Second Class   \n",
       "2        3  CA-2017-138688  12/06/2017  16/06/2017    Second Class   \n",
       "3        4  US-2016-108966  11/10/2016  18/10/2016  Standard Class   \n",
       "4        5  US-2016-108966  11/10/2016  18/10/2016  Standard Class   \n",
       "..     ...             ...         ...         ...             ...   \n",
       "95      96  US-2018-109484  06/11/2018  12/11/2018  Standard Class   \n",
       "96      97  CA-2018-161018  09/11/2018  11/11/2018    Second Class   \n",
       "97      98  CA-2018-157833  17/06/2018  20/06/2018     First Class   \n",
       "98      99  CA-2017-149223  06/09/2017  11/09/2017  Standard Class   \n",
       "99     100  CA-2017-158568  29/08/2017  02/09/2017  Standard Class   \n",
       "\n",
       "   Customer ID      Customer Name      Segment        Country  \\\n",
       "0     CG-12520        Claire Gute     Consumer  United States   \n",
       "1     CG-12520        Claire Gute     Consumer  United States   \n",
       "2     DV-13045    Darrin Van Huff    Corporate  United States   \n",
       "3     SO-20335     Sean O'Donnell     Consumer  United States   \n",
       "4     SO-20335     Sean O'Donnell     Consumer  United States   \n",
       "..         ...                ...          ...            ...   \n",
       "95    RB-19705       Roger Barcio  Home Office  United States   \n",
       "96    PN-18775     Parhena Norris  Home Office  United States   \n",
       "97    KD-16345   Katherine Ducich     Consumer  United States   \n",
       "98    ER-13855  Elpida Rittenbach    Corporate  United States   \n",
       "99    RB-19465       Rick Bensley  Home Office  United States   \n",
       "\n",
       "               City       State  Postal Code   Region       Product ID  \\\n",
       "0         Henderson    Kentucky      42420.0    South  FUR-BO-10001798   \n",
       "1         Henderson    Kentucky      42420.0    South  FUR-CH-10000454   \n",
       "2       Los Angeles  California      90036.0     West  OFF-LA-10000240   \n",
       "3   Fort Lauderdale     Florida      33311.0    South  FUR-TA-10000577   \n",
       "4   Fort Lauderdale     Florida      33311.0    South  OFF-ST-10000760   \n",
       "..              ...         ...          ...      ...              ...   \n",
       "95         Portland      Oregon      97206.0     West  OFF-BI-10004738   \n",
       "96    New York City    New York      10009.0     East  FUR-FU-10000629   \n",
       "97    San Francisco  California      94122.0     West  OFF-BI-10001721   \n",
       "98       Saint Paul   Minnesota      55106.0  Central  OFF-AP-10000358   \n",
       "99          Chicago    Illinois      60610.0  Central  OFF-PA-10003256   \n",
       "\n",
       "           Category Sub-Category  \\\n",
       "0         Furniture    Bookcases   \n",
       "1         Furniture       Chairs   \n",
       "2   Office Supplies       Labels   \n",
       "3         Furniture       Tables   \n",
       "4   Office Supplies      Storage   \n",
       "..              ...          ...   \n",
       "95  Office Supplies      Binders   \n",
       "96        Furniture  Furnishings   \n",
       "97  Office Supplies      Binders   \n",
       "98  Office Supplies   Appliances   \n",
       "99  Office Supplies        Paper   \n",
       "\n",
       "                                         Product Name     Sales  \n",
       "0                   Bush Somerset Collection Bookcase  261.9600  \n",
       "1   Hon Deluxe Fabric Upholstered Stacking Chairs,...  731.9400  \n",
       "2   Self-Adhesive Address Labels for Typewriters b...   14.6200  \n",
       "3       Bretford CR4500 Series Slim Rectangular Table  957.5775  \n",
       "4                      Eldon Fold 'N Roll Cart System   22.3680  \n",
       "..                                                ...       ...  \n",
       "95  Flexible Leather- Look Classic Collection Ring...    5.6820  \n",
       "96                    9-3/4 Diameter Round Wall Clock   96.5300  \n",
       "97                     Trimflex Flexible Post Binders   51.3120  \n",
       "98  Fellowes Basic Home/Office Series Surge Protec...   77.8800  \n",
       "99         Avery Personal Creations Heavyweight Cards   64.6240  \n",
       "\n",
       "[100 rows x 18 columns]"
      ]
     },
     "execution_count": 6,
     "metadata": {},
     "output_type": "execute_result"
    }
   ],
   "source": [
    "df.head(100)"
   ]
  },
  {
   "cell_type": "markdown",
   "id": "58288c8e",
   "metadata": {},
   "source": [
    "## Revenue by Customer Segment\n",
    "- Will help us understand our largest buyers and also improve our customer service to each segment.\n",
    "- How we can improve customer services to them and ensure customer loyalty and satisfication throught the year."
   ]
  },
  {
   "cell_type": "markdown",
   "id": "6ea98c3d",
   "metadata": {},
   "source": [
    "### Types of Customers"
   ]
  },
  {
   "cell_type": "code",
   "execution_count": 7,
   "id": "36604297",
   "metadata": {},
   "outputs": [
    {
     "name": "stdout",
     "output_type": "stream",
     "text": [
      "['Consumer' 'Corporate' 'Home Office']\n"
     ]
    }
   ],
   "source": [
    "types_of_customers = df['Segment'].unique()\n",
    "print (types_of_customers)"
   ]
  },
  {
   "cell_type": "code",
   "execution_count": 8,
   "id": "9f034395",
   "metadata": {},
   "outputs": [
    {
     "name": "stdout",
     "output_type": "stream",
     "text": [
      "  Type Of Customer  count\n",
      "0         Consumer   5101\n",
      "1        Corporate   2953\n",
      "2      Home Office   1746\n"
     ]
    }
   ],
   "source": [
    "number_of_customers = df['Segment'].value_counts().reset_index()\n",
    "number_of_customers = number_of_customers.rename(columns={'Segment' : 'Type Of Customer'})\n",
    "print (number_of_customers)"
   ]
  },
  {
   "cell_type": "markdown",
   "id": "d7cbacb2",
   "metadata": {},
   "source": [
    "### Visualize the distribution of different types of customers."
   ]
  },
  {
   "cell_type": "code",
   "execution_count": 9,
   "id": "84d0b949",
   "metadata": {},
   "outputs": [
    {
     "data": {
      "text/plain": [
       "([<matplotlib.patches.Wedge at 0x240c9754bf0>,\n",
       "  <matplotlib.patches.Wedge at 0x240c8ea5880>,\n",
       "  <matplotlib.patches.Wedge at 0x240c96e3770>],\n",
       " [Text(-0.07082911608159113, 1.0977172843292122, 'Consumer'),\n",
       "  Text(-0.5228074775852011, -0.9678183411059121, 'Corporate'),\n",
       "  Text(0.9321462996405261, -0.584040474681742, 'Home Office')],\n",
       " [Text(-0.03863406331723152, 0.5987548823613884, '52.1%'),\n",
       "  Text(-0.28516771504647326, -0.5279009133304975, '30.1%'),\n",
       "  Text(0.5084434361675596, -0.31856753164458657, '17.8%')])"
      ]
     },
     "execution_count": 9,
     "metadata": {},
     "output_type": "execute_result"
    },
    {
     "data": {
      "image/png": "[encoded data removed]",
      "text/plain": [
       "<Figure size 640x480 with 1 Axes>"
      ]
     },
     "metadata": {},
     "output_type": "display_data"
    }
   ],
   "source": [
    "plt.pie(number_of_customers['count'], labels=number_of_customers['Type Of Customer'], autopct='%1.1f%%')\n",
    "     "
   ]
  },
  {
   "cell_type": "markdown",
   "id": "abcf017b",
   "metadata": {},
   "source": [
    "## Customer Sales Insights\n",
    "1. Understanding Customer Need\n",
    "\n",
    "2. Improving Customer Engagement\n",
    "3. Bridging Marketing and Sales\n",
    "\n",
    "4. Enhancing Efficiency: By understanding customer behavior and preferences, you can streamline your processes, making them more efficient and reducing wasted efforts.\n",
    "\n",
    "5. Building Realistic Expectations: Insights help in setting realistic expectations around your products and services,"
   ]
  },
  {
   "cell_type": "code",
   "execution_count": 12,
   "id": "d998dfb4",
   "metadata": {},
   "outputs": [
    {
     "name": "stdout",
     "output_type": "stream",
     "text": [
      "  Type Of Customer   Total Sales\n",
      "0         Consumer  1.148061e+06\n",
      "1        Corporate  6.884941e+05\n",
      "2      Home Office  4.249822e+05\n"
     ]
    }
   ],
   "source": [
    "sales_per_segment = df.groupby('Segment')['Sales'].sum().reset_index()\n",
    "sales_per_segment = sales_per_segment.rename(columns={'Segment' : 'Type Of Customer', 'Sales' : 'Total Sales'})\n",
    "\n",
    "print(sales_per_segment)"
   ]
  },
  {
   "cell_type": "code",
   "execution_count": 13,
   "id": "4293197d",
   "metadata": {},
   "outputs": [
    {
     "data": {
      "text/plain": [
       "<BarContainer object of 3 artists>"
      ]
     },
     "execution_count": 13,
     "metadata": {},
     "output_type": "execute_result"
    },
    {
     "data": {
      "image/png": "[encoded data removed]",
      "text/plain": [
       "<Figure size 640x480 with 1 Axes>"
      ]
     },
     "metadata": {},
     "output_type": "display_data"
    }
   ],
   "source": [
    "plt.bar(sales_per_segment['Type Of Customer'], sales_per_segment['Total Sales'])"
   ]
  },
  {
   "cell_type": "code",
   "execution_count": 14,
   "id": "50cfcf4c",
   "metadata": {},
   "outputs": [
    {
     "data": {
      "text/plain": [
       "([<matplotlib.patches.Wedge at 0x240c997a9c0>,\n",
       "  <matplotlib.patches.Wedge at 0x240c97d5fd0>,\n",
       "  <matplotlib.patches.Wedge at 0x240c99b8110>],\n",
       " [Text(-0.02642083976554102, 1.0996826538715994, 'Consumer'),\n",
       "  Text(-0.5902005886829921, -0.9282581888236967, 'Corporate'),\n",
       "  Text(0.913814451312435, -0.612326014940206, 'Home Office')],\n",
       " [Text(-0.014411367144840556, 0.5998269021117814, '50.8%'),\n",
       "  Text(-0.3219275938270865, -0.5063226484492891, '30.4%'),\n",
       "  Text(0.49844424617041905, -0.33399600814920327, '18.8%')])"
      ]
     },
     "execution_count": 14,
     "metadata": {},
     "output_type": "execute_result"
    },
    {
     "data": {
      "image/png": "[encoded data removed]",
      "text/plain": [
       "<Figure size 640x480 with 1 Axes>"
      ]
     },
     "metadata": {},
     "output_type": "display_data"
    }
   ],
   "source": [
    "plt.pie(sales_per_segment['Total Sales'], labels=sales_per_segment['Type Of Customer'], autopct='%1.1f%%')"
   ]
  },
  {
   "cell_type": "code",
   "execution_count": 15,
   "id": "6535dd24",
   "metadata": {},
   "outputs": [
    {
     "data": {
      "application/vnd.microsoft.datawrangler.viewer.v0+json": {
       "columns": [
        {
         "name": "index",
         "rawType": "int64",
         "type": "integer"
        },
        {
         "name": "Row ID",
         "rawType": "int64",
         "type": "integer"
        },
        {
         "name": "Order ID",
         "rawType": "object",
         "type": "string"
        },
        {
         "name": "Order Date",
         "rawType": "object",
         "type": "string"
        },
        {
         "name": "Ship Date",
         "rawType": "object",
         "type": "string"
        },
        {
         "name": "Ship Mode",
         "rawType": "object",
         "type": "string"
        },
        {
         "name": "Customer ID",
         "rawType": "object",
         "type": "string"
        },
        {
         "name": "Customer Name",
         "rawType": "object",
         "type": "string"
        },
        {
         "name": "Segment",
         "rawType": "object",
         "type": "string"
        },
        {
         "name": "Country",
         "rawType": "object",
         "type": "string"
        },
        {
         "name": "City",
         "rawType": "object",
         "type": "string"
        },
        {
         "name": "State",
         "rawType": "object",
         "type": "string"
        },
        {
         "name": "Postal Code",
         "rawType": "float64",
         "type": "float"
        },
        {
         "name": "Region",
         "rawType": "object",
         "type": "string"
        },
        {
         "name": "Product ID",
         "rawType": "object",
         "type": "string"
        },
        {
         "name": "Category",
         "rawType": "object",
         "type": "string"
        },
        {
         "name": "Sub-Category",
         "rawType": "object",
         "type": "string"
        },
        {
         "name": "Product Name",
         "rawType": "object",
         "type": "string"
        },
        {
         "name": "Sales",
         "rawType": "float64",
         "type": "float"
        }
       ],
       "ref": "959b87b7-f3f0-4944-80d7-2219274620ff",
       "rows": [
        [
         "0",
         "1",
         "CA-2017-152156",
         "08/11/2017",
         "11/11/2017",
         "Second Class",
         "CG-12520",
         "Claire Gute",
         "Consumer",
         "United States",
         "Henderson",
         "Kentucky",
         "42420.0",
         "South",
         "FUR-BO-10001798",
         "Furniture",
         "Bookcases",
         "Bush Somerset Collection Bookcase",
         "261.96"
        ],
        [
         "1",
         "2",
         "CA-2017-152156",
         "08/11/2017",
         "11/11/2017",
         "Second Class",
         "CG-12520",
         "Claire Gute",
         "Consumer",
         "United States",
         "Henderson",
         "Kentucky",
         "42420.0",
         "South",
         "FUR-CH-10000454",
         "Furniture",
         "Chairs",
         "Hon Deluxe Fabric Upholstered Stacking Chairs, Rounded Back",
         "731.94"
        ],
        [
         "2",
         "3",
         "CA-2017-138688",
         "12/06/2017",
         "16/06/2017",
         "Second Class",
         "DV-13045",
         "Darrin Van Huff",
         "Corporate",
         "United States",
         "Los Angeles",
         "California",
         "90036.0",
         "West",
         "OFF-LA-10000240",
         "Office Supplies",
         "Labels",
         "Self-Adhesive Address Labels for Typewriters by Universal",
         "14.62"
        ]
       ],
       "shape": {
        "columns": 18,
        "rows": 3
       }
      },
      "text/html": [
       "<div>\n",
       "<style scoped>\n",
       "    .dataframe tbody tr th:only-of-type {\n",
       "        vertical-align: middle;\n",
       "    }\n",
       "\n",
       "    .dataframe tbody tr th {\n",
       "        vertical-align: top;\n",
       "    }\n",
       "\n",
       "    .dataframe thead th {\n",
       "        text-align: right;\n",
       "    }\n",
       "</style>\n",
       "<table border=\"1\" class=\"dataframe\">\n",
       "  <thead>\n",
       "    <tr style=\"text-align: right;\">\n",
       "      <th></th>\n",
       "      <th>Row ID</th>\n",
       "      <th>Order ID</th>\n",
       "      <th>Order Date</th>\n",
       "      <th>Ship Date</th>\n",
       "      <th>Ship Mode</th>\n",
       "      <th>Customer ID</th>\n",
       "      <th>Customer Name</th>\n",
       "      <th>Segment</th>\n",
       "      <th>Country</th>\n",
       "      <th>City</th>\n",
       "      <th>State</th>\n",
       "      <th>Postal Code</th>\n",
       "      <th>Region</th>\n",
       "      <th>Product ID</th>\n",
       "      <th>Category</th>\n",
       "      <th>Sub-Category</th>\n",
       "      <th>Product Name</th>\n",
       "      <th>Sales</th>\n",
       "    </tr>\n",
       "  </thead>\n",
       "  <tbody>\n",
       "    <tr>\n",
       "      <th>0</th>\n",
       "      <td>1</td>\n",
       "      <td>CA-2017-152156</td>\n",
       "      <td>08/11/2017</td>\n",
       "      <td>11/11/2017</td>\n",
       "      <td>Second Class</td>\n",
       "      <td>CG-12520</td>\n",
       "      <td>Claire Gute</td>\n",
       "      <td>Consumer</td>\n",
       "      <td>United States</td>\n",
       "      <td>Henderson</td>\n",
       "      <td>Kentucky</td>\n",
       "      <td>42420.0</td>\n",
       "      <td>South</td>\n",
       "      <td>FUR-BO-10001798</td>\n",
       "      <td>Furniture</td>\n",
       "      <td>Bookcases</td>\n",
       "      <td>Bush Somerset Collection Bookcase</td>\n",
       "      <td>261.96</td>\n",
       "    </tr>\n",
       "    <tr>\n",
       "      <th>1</th>\n",
       "      <td>2</td>\n",
       "      <td>CA-2017-152156</td>\n",
       "      <td>08/11/2017</td>\n",
       "      <td>11/11/2017</td>\n",
       "      <td>Second Class</td>\n",
       "      <td>CG-12520</td>\n",
       "      <td>Claire Gute</td>\n",
       "      <td>Consumer</td>\n",
       "      <td>United States</td>\n",
       "      <td>Henderson</td>\n",
       "      <td>Kentucky</td>\n",
       "      <td>42420.0</td>\n",
       "      <td>South</td>\n",
       "      <td>FUR-CH-10000454</td>\n",
       "      <td>Furniture</td>\n",
       "      <td>Chairs</td>\n",
       "      <td>Hon Deluxe Fabric Upholstered Stacking Chairs,...</td>\n",
       "      <td>731.94</td>\n",
       "    </tr>\n",
       "    <tr>\n",
       "      <th>2</th>\n",
       "      <td>3</td>\n",
       "      <td>CA-2017-138688</td>\n",
       "      <td>12/06/2017</td>\n",
       "      <td>16/06/2017</td>\n",
       "      <td>Second Class</td>\n",
       "      <td>DV-13045</td>\n",
       "      <td>Darrin Van Huff</td>\n",
       "      <td>Corporate</td>\n",
       "      <td>United States</td>\n",
       "      <td>Los Angeles</td>\n",
       "      <td>California</td>\n",
       "      <td>90036.0</td>\n",
       "      <td>West</td>\n",
       "      <td>OFF-LA-10000240</td>\n",
       "      <td>Office Supplies</td>\n",
       "      <td>Labels</td>\n",
       "      <td>Self-Adhesive Address Labels for Typewriters b...</td>\n",
       "      <td>14.62</td>\n",
       "    </tr>\n",
       "  </tbody>\n",
       "</table>\n",
       "</div>"
      ],
      "text/plain": [
       "   Row ID        Order ID  Order Date   Ship Date     Ship Mode Customer ID  \\\n",
       "0       1  CA-2017-152156  08/11/2017  11/11/2017  Second Class    CG-12520   \n",
       "1       2  CA-2017-152156  08/11/2017  11/11/2017  Second Class    CG-12520   \n",
       "2       3  CA-2017-138688  12/06/2017  16/06/2017  Second Class    DV-13045   \n",
       "\n",
       "     Customer Name    Segment        Country         City       State  \\\n",
       "0      Claire Gute   Consumer  United States    Henderson    Kentucky   \n",
       "1      Claire Gute   Consumer  United States    Henderson    Kentucky   \n",
       "2  Darrin Van Huff  Corporate  United States  Los Angeles  California   \n",
       "\n",
       "   Postal Code Region       Product ID         Category Sub-Category  \\\n",
       "0      42420.0  South  FUR-BO-10001798        Furniture    Bookcases   \n",
       "1      42420.0  South  FUR-CH-10000454        Furniture       Chairs   \n",
       "2      90036.0   West  OFF-LA-10000240  Office Supplies       Labels   \n",
       "\n",
       "                                        Product Name   Sales  \n",
       "0                  Bush Somerset Collection Bookcase  261.96  \n",
       "1  Hon Deluxe Fabric Upholstered Stacking Chairs,...  731.94  \n",
       "2  Self-Adhesive Address Labels for Typewriters b...   14.62  "
      ]
     },
     "execution_count": 15,
     "metadata": {},
     "output_type": "execute_result"
    }
   ],
   "source": [
    "df.head(3)"
   ]
  },
  {
   "cell_type": "markdown",
   "id": "fecb3f02",
   "metadata": {},
   "source": [
    "## Exploring Customer Loyalty"
   ]
  },
  {
   "cell_type": "markdown",
   "id": "2d6bc913",
   "metadata": {},
   "source": [
    "### The Customers Info Table"
   ]
  },
  {
   "cell_type": "code",
   "execution_count": 24,
   "id": "6c5a0f72",
   "metadata": {},
   "outputs": [
    {
     "name": "stdout",
     "output_type": "stream",
     "text": [
      "    Customer ID       Customer Name    Segment  Total Orders\n",
      "0      AA-10315          Alex Avila   Consumer            11\n",
      "1      AA-10375        Allen Armold   Consumer            15\n",
      "2      AA-10480        Andrew Allen   Consumer            12\n",
      "3      AA-10645       Anna Andreadi   Consumer            18\n",
      "4      AB-10015       Aaron Bergman   Consumer             6\n",
      "..          ...                 ...        ...           ...\n",
      "788    XP-21865        Xylona Preis   Consumer            28\n",
      "789    YC-21895      Yoseph Carroll  Corporate             8\n",
      "790    YS-21880       Yana Sorensen  Corporate            12\n",
      "791    ZC-21910    Zuschuss Carroll   Consumer            31\n",
      "792    ZD-21925  Zuschuss Donatelli   Consumer             9\n",
      "\n",
      "[793 rows x 4 columns]\n"
     ]
    }
   ],
   "source": [
    "customers_order_frequency = df.groupby(['Customer ID', 'Customer Name', 'Segment'])['Order ID'].count().reset_index()\n",
    "customers_order_frequency.rename(columns={'Order ID' : 'Total Orders'}, inplace = True)\n",
    "\n",
    "print(customers_order_frequency)"
   ]
  },
  {
   "cell_type": "markdown",
   "id": "1ba6f117",
   "metadata": {},
   "source": [
    "### Customers Segment with The Highest Orders"
   ]
  },
  {
   "cell_type": "code",
   "execution_count": 25,
   "id": "514e1df9",
   "metadata": {},
   "outputs": [
    {
     "name": "stdout",
     "output_type": "stream",
     "text": [
      "   Customer ID        Customer Name      Segment  Total Orders\n",
      "0     WB-21850        William Brown     Consumer            35\n",
      "1     PP-18955           Paul Prost  Home Office            34\n",
      "2     MA-17560         Matt Abelman  Home Office            34\n",
      "3     JL-15835             John Lee     Consumer            33\n",
      "4     CK-12205  Chloris Kastensmidt     Consumer            32\n",
      "5     SV-20365          Seth Vernon     Consumer            32\n",
      "6     JD-15895     Jonathan Doherty    Corporate            32\n",
      "7     AP-10915       Arthur Prichep     Consumer            31\n",
      "8     ZC-21910     Zuschuss Carroll     Consumer            31\n",
      "9     EP-13915           Emily Phan     Consumer            31\n",
      "10    LC-16870        Lena Cacioppo     Consumer            30\n",
      "11    Dp-13240          Dean percer  Home Office            29\n",
      "12    BM-11650           Brian Moss    Corporate            29\n",
      "13    GT-14710            Greg Tran     Consumer            29\n",
      "14    KL-16645         Ken Lonsdale     Consumer            29\n",
      "15    CS-12250      Chris Selesnick    Corporate            28\n",
      "16    KM-16720         Kunst Miller     Consumer            28\n",
      "17    CL-12565          Clay Ludtke     Consumer            28\n",
      "18    KD-16495        Keith Dawkins    Corporate            28\n",
      "19    XP-21865         Xylona Preis     Consumer            28\n"
     ]
    }
   ],
   "source": [
    "repeat_customers = customers_order_frequency[customers_order_frequency['Total Orders'] >= 1]\n",
    "repeat_customers_sorted = repeat_customers.sort_values(by='Total Orders', ascending = False)\n",
    "\n",
    "print(repeat_customers_sorted.head(20).reset_index(drop=True))"
   ]
  },
  {
   "cell_type": "markdown",
   "id": "f0406ff4",
   "metadata": {},
   "source": [
    "### Customer grouped by Sales"
   ]
  },
  {
   "cell_type": "code",
   "execution_count": 26,
   "id": "4953c4d1",
   "metadata": {},
   "outputs": [
    {
     "name": "stdout",
     "output_type": "stream",
     "text": [
      "    Customer ID       Customer Name    Segment     Sales\n",
      "0      AA-10315          Alex Avila   Consumer  5563.560\n",
      "1      AA-10375        Allen Armold   Consumer  1056.390\n",
      "2      AA-10480        Andrew Allen   Consumer  1790.512\n",
      "3      AA-10645       Anna Andreadi   Consumer  5086.935\n",
      "4      AB-10015       Aaron Bergman   Consumer   886.156\n",
      "..          ...                 ...        ...       ...\n",
      "788    XP-21865        Xylona Preis   Consumer  2374.658\n",
      "789    YC-21895      Yoseph Carroll  Corporate  5454.350\n",
      "790    YS-21880       Yana Sorensen  Corporate  6720.444\n",
      "791    ZC-21910    Zuschuss Carroll   Consumer  8025.707\n",
      "792    ZD-21925  Zuschuss Donatelli   Consumer  1493.944\n",
      "\n",
      "[793 rows x 4 columns]\n"
     ]
    }
   ],
   "source": [
    "customer_sales = df.groupby(['Customer ID', 'Customer Name', 'Segment'])['Sales'].sum().reset_index()\n",
    "print(customer_sales)"
   ]
  },
  {
   "cell_type": "markdown",
   "id": "4c8d5d2f",
   "metadata": {},
   "source": [
    "### Top Spenders"
   ]
  },
  {
   "cell_type": "code",
   "execution_count": 27,
   "id": "72d89e3d",
   "metadata": {},
   "outputs": [
    {
     "name": "stdout",
     "output_type": "stream",
     "text": [
      "   Customer ID       Customer Name      Segment      Sales\n",
      "0     SM-20320         Sean Miller  Home Office  25043.050\n",
      "1     TC-20980        Tamara Chand    Corporate  19052.218\n",
      "2     RB-19360        Raymond Buch     Consumer  15117.339\n",
      "3     TA-21385        Tom Ashbrook  Home Office  14595.620\n",
      "4     AB-10105       Adrian Barton     Consumer  14473.571\n",
      "5     KL-16645        Ken Lonsdale     Consumer  14175.229\n",
      "6     SC-20095        Sanjit Chand     Consumer  14142.334\n",
      "7     HL-15040        Hunter Lopez     Consumer  12873.298\n",
      "8     SE-20110        Sanjit Engle     Consumer  12209.438\n",
      "9     CC-12370  Christopher Conant     Consumer  12129.072\n",
      "10    TS-21370        Todd Sumrall    Corporate  11891.751\n",
      "11    GT-14710           Greg Tran     Consumer  11820.120\n"
     ]
    }
   ],
   "source": [
    "\n",
    "top_spenders = customer_sales.sort_values(by='Sales', ascending=False)\n",
    "print(top_spenders.head(12).reset_index(drop=True))"
   ]
  },
  {
   "cell_type": "code",
   "execution_count": null,
   "id": "8111472a",
   "metadata": {},
   "outputs": [],
   "source": []
  },
  {
   "cell_type": "markdown",
   "id": "8501fd9a",
   "metadata": {},
   "source": [
    "## Superstore Shipping Strategies"
   ]
  },
  {
   "cell_type": "code",
   "execution_count": 28,
   "id": "78dead7c",
   "metadata": {},
   "outputs": [
    {
     "name": "stdout",
     "output_type": "stream",
     "text": [
      "['Second Class' 'Standard Class' 'First Class' 'Same Day']\n"
     ]
    }
   ],
   "source": [
    "types_of_customers = df['Ship Mode'].unique()\n",
    "print(types_of_customers)"
   ]
  },
  {
   "cell_type": "code",
   "execution_count": 29,
   "id": "9799e570",
   "metadata": {},
   "outputs": [
    {
     "name": "stdout",
     "output_type": "stream",
     "text": [
      "  Mode Of Shipment  Use Frequency\n",
      "0   Standard Class           5859\n",
      "1     Second Class           1902\n",
      "2      First Class           1501\n",
      "3         Same Day            538\n"
     ]
    }
   ],
   "source": [
    "shipping_model = df['Ship Mode'].value_counts().reset_index()\n",
    "shipping_model = shipping_model.rename(columns={'index':'Use Frequency', 'Ship Mode':'Mode Of Shipment', 'count' : 'Use Frequency'})\n",
    "print(shipping_model)"
   ]
  },
  {
   "cell_type": "code",
   "execution_count": 30,
   "id": "5e5795f8",
   "metadata": {},
   "outputs": [
    {
     "data": {
      "image/png": "[encoded data removed]",
      "text/plain": [
       "<Figure size 640x480 with 1 Axes>"
      ]
     },
     "metadata": {},
     "output_type": "display_data"
    }
   ],
   "source": [
    "plt.pie(shipping_model['Use Frequency'], labels=shipping_model['Mode Of Shipment'], autopct='%1.1f%%')\n",
    "plt.title('No Orders by Mode of Shipment')\n",
    "plt.show()     "
   ]
  },
  {
   "cell_type": "markdown",
   "id": "ed108e5b",
   "metadata": {},
   "source": [
    "## Georgraphical Market Analysis"
   ]
  },
  {
   "cell_type": "markdown",
   "id": "a079e560",
   "metadata": {},
   "source": [
    "### Orders by State"
   ]
  },
  {
   "cell_type": "code",
   "execution_count": 31,
   "id": "fe9f6ec7",
   "metadata": {},
   "outputs": [
    {
     "name": "stdout",
     "output_type": "stream",
     "text": [
      "   Number Of Customers  count\n",
      "0           California   1946\n",
      "1             New York   1097\n",
      "2                Texas    973\n",
      "3         Pennsylvania    582\n",
      "4           Washington    504\n",
      "5             Illinois    483\n",
      "6                 Ohio    454\n",
      "7              Florida    373\n",
      "8             Michigan    253\n",
      "9       North Carolina    247\n",
      "10            Virginia    224\n",
      "11             Arizona    223\n",
      "12           Tennessee    183\n",
      "13            Colorado    179\n",
      "14             Georgia    177\n",
      "15            Kentucky    137\n",
      "16             Indiana    135\n",
      "17       Massachusetts    135\n",
      "18              Oregon    122\n",
      "19          New Jersey    122\n"
     ]
    }
   ],
   "source": [
    "state = df['State'].value_counts().reset_index()\n",
    "state = state.rename(columns={'index':'State', 'State':'Number Of Customers'})\n",
    "print(state.head(20))"
   ]
  },
  {
   "cell_type": "markdown",
   "id": "c626f8d0",
   "metadata": {},
   "source": [
    "### Orders by City"
   ]
  },
  {
   "cell_type": "code",
   "execution_count": 32,
   "id": "c0124f7a",
   "metadata": {},
   "outputs": [
    {
     "data": {
      "application/vnd.microsoft.datawrangler.viewer.v0+json": {
       "columns": [
        {
         "name": "index",
         "rawType": "int64",
         "type": "integer"
        },
        {
         "name": "City",
         "rawType": "object",
         "type": "string"
        },
        {
         "name": "count",
         "rawType": "int64",
         "type": "integer"
        }
       ],
       "ref": "4f8bac07-48e8-481a-b5c8-d365858b8033",
       "rows": [
        [
         "0",
         "New York City",
         "891"
        ],
        [
         "1",
         "Los Angeles",
         "728"
        ],
        [
         "2",
         "Philadelphia",
         "532"
        ],
        [
         "3",
         "San Francisco",
         "500"
        ],
        [
         "4",
         "Seattle",
         "426"
        ],
        [
         "5",
         "Houston",
         "374"
        ],
        [
         "6",
         "Chicago",
         "308"
        ],
        [
         "7",
         "Columbus",
         "221"
        ],
        [
         "8",
         "San Diego",
         "170"
        ],
        [
         "9",
         "Springfield",
         "161"
        ],
        [
         "10",
         "Dallas",
         "156"
        ],
        [
         "11",
         "Jacksonville",
         "125"
        ],
        [
         "12",
         "Detroit",
         "115"
        ],
        [
         "13",
         "Newark",
         "92"
        ],
        [
         "14",
         "Jackson",
         "82"
        ],
        [
         "15",
         "Columbia",
         "81"
        ],
        [
         "16",
         "Richmond",
         "81"
        ],
        [
         "17",
         "Aurora",
         "68"
        ],
        [
         "18",
         "Phoenix",
         "63"
        ],
        [
         "19",
         "Arlington",
         "60"
        ],
        [
         "20",
         "San Antonio",
         "59"
        ],
        [
         "21",
         "Miami",
         "56"
        ],
        [
         "22",
         "Louisville",
         "54"
        ],
        [
         "23",
         "Rochester",
         "53"
        ],
        [
         "24",
         "Long Beach",
         "52"
        ]
       ],
       "shape": {
        "columns": 2,
        "rows": 25
       }
      },
      "text/html": [
       "<div>\n",
       "<style scoped>\n",
       "    .dataframe tbody tr th:only-of-type {\n",
       "        vertical-align: middle;\n",
       "    }\n",
       "\n",
       "    .dataframe tbody tr th {\n",
       "        vertical-align: top;\n",
       "    }\n",
       "\n",
       "    .dataframe thead th {\n",
       "        text-align: right;\n",
       "    }\n",
       "</style>\n",
       "<table border=\"1\" class=\"dataframe\">\n",
       "  <thead>\n",
       "    <tr style=\"text-align: right;\">\n",
       "      <th></th>\n",
       "      <th>City</th>\n",
       "      <th>count</th>\n",
       "    </tr>\n",
       "  </thead>\n",
       "  <tbody>\n",
       "    <tr>\n",
       "      <th>0</th>\n",
       "      <td>New York City</td>\n",
       "      <td>891</td>\n",
       "    </tr>\n",
       "    <tr>\n",
       "      <th>1</th>\n",
       "      <td>Los Angeles</td>\n",
       "      <td>728</td>\n",
       "    </tr>\n",
       "    <tr>\n",
       "      <th>2</th>\n",
       "      <td>Philadelphia</td>\n",
       "      <td>532</td>\n",
       "    </tr>\n",
       "    <tr>\n",
       "      <th>3</th>\n",
       "      <td>San Francisco</td>\n",
       "      <td>500</td>\n",
       "    </tr>\n",
       "    <tr>\n",
       "      <th>4</th>\n",
       "      <td>Seattle</td>\n",
       "      <td>426</td>\n",
       "    </tr>\n",
       "    <tr>\n",
       "      <th>5</th>\n",
       "      <td>Houston</td>\n",
       "      <td>374</td>\n",
       "    </tr>\n",
       "    <tr>\n",
       "      <th>6</th>\n",
       "      <td>Chicago</td>\n",
       "      <td>308</td>\n",
       "    </tr>\n",
       "    <tr>\n",
       "      <th>7</th>\n",
       "      <td>Columbus</td>\n",
       "      <td>221</td>\n",
       "    </tr>\n",
       "    <tr>\n",
       "      <th>8</th>\n",
       "      <td>San Diego</td>\n",
       "      <td>170</td>\n",
       "    </tr>\n",
       "    <tr>\n",
       "      <th>9</th>\n",
       "      <td>Springfield</td>\n",
       "      <td>161</td>\n",
       "    </tr>\n",
       "    <tr>\n",
       "      <th>10</th>\n",
       "      <td>Dallas</td>\n",
       "      <td>156</td>\n",
       "    </tr>\n",
       "    <tr>\n",
       "      <th>11</th>\n",
       "      <td>Jacksonville</td>\n",
       "      <td>125</td>\n",
       "    </tr>\n",
       "    <tr>\n",
       "      <th>12</th>\n",
       "      <td>Detroit</td>\n",
       "      <td>115</td>\n",
       "    </tr>\n",
       "    <tr>\n",
       "      <th>13</th>\n",
       "      <td>Newark</td>\n",
       "      <td>92</td>\n",
       "    </tr>\n",
       "    <tr>\n",
       "      <th>14</th>\n",
       "      <td>Jackson</td>\n",
       "      <td>82</td>\n",
       "    </tr>\n",
       "    <tr>\n",
       "      <th>15</th>\n",
       "      <td>Columbia</td>\n",
       "      <td>81</td>\n",
       "    </tr>\n",
       "    <tr>\n",
       "      <th>16</th>\n",
       "      <td>Richmond</td>\n",
       "      <td>81</td>\n",
       "    </tr>\n",
       "    <tr>\n",
       "      <th>17</th>\n",
       "      <td>Aurora</td>\n",
       "      <td>68</td>\n",
       "    </tr>\n",
       "    <tr>\n",
       "      <th>18</th>\n",
       "      <td>Phoenix</td>\n",
       "      <td>63</td>\n",
       "    </tr>\n",
       "    <tr>\n",
       "      <th>19</th>\n",
       "      <td>Arlington</td>\n",
       "      <td>60</td>\n",
       "    </tr>\n",
       "    <tr>\n",
       "      <th>20</th>\n",
       "      <td>San Antonio</td>\n",
       "      <td>59</td>\n",
       "    </tr>\n",
       "    <tr>\n",
       "      <th>21</th>\n",
       "      <td>Miami</td>\n",
       "      <td>56</td>\n",
       "    </tr>\n",
       "    <tr>\n",
       "      <th>22</th>\n",
       "      <td>Louisville</td>\n",
       "      <td>54</td>\n",
       "    </tr>\n",
       "    <tr>\n",
       "      <th>23</th>\n",
       "      <td>Rochester</td>\n",
       "      <td>53</td>\n",
       "    </tr>\n",
       "    <tr>\n",
       "      <th>24</th>\n",
       "      <td>Long Beach</td>\n",
       "      <td>52</td>\n",
       "    </tr>\n",
       "  </tbody>\n",
       "</table>\n",
       "</div>"
      ],
      "text/plain": [
       "             City  count\n",
       "0   New York City    891\n",
       "1     Los Angeles    728\n",
       "2    Philadelphia    532\n",
       "3   San Francisco    500\n",
       "4         Seattle    426\n",
       "5         Houston    374\n",
       "6         Chicago    308\n",
       "7        Columbus    221\n",
       "8       San Diego    170\n",
       "9     Springfield    161\n",
       "10         Dallas    156\n",
       "11   Jacksonville    125\n",
       "12        Detroit    115\n",
       "13         Newark     92\n",
       "14        Jackson     82\n",
       "15       Columbia     81\n",
       "16       Richmond     81\n",
       "17         Aurora     68\n",
       "18        Phoenix     63\n",
       "19      Arlington     60\n",
       "20    San Antonio     59\n",
       "21          Miami     56\n",
       "22     Louisville     54\n",
       "23      Rochester     53\n",
       "24     Long Beach     52"
      ]
     },
     "execution_count": 32,
     "metadata": {},
     "output_type": "execute_result"
    }
   ],
   "source": [
    "city = df['City'].value_counts().reset_index()\n",
    "city.head(25)"
   ]
  },
  {
   "cell_type": "markdown",
   "id": "bb284888",
   "metadata": {},
   "source": [
    "### Top Sales by City"
   ]
  },
  {
   "cell_type": "code",
   "execution_count": 33,
   "id": "731464ff",
   "metadata": {},
   "outputs": [
    {
     "data": {
      "application/vnd.microsoft.datawrangler.viewer.v0+json": {
       "columns": [
        {
         "name": "index",
         "rawType": "int64",
         "type": "integer"
        },
        {
         "name": "City",
         "rawType": "object",
         "type": "string"
        },
        {
         "name": "Sales",
         "rawType": "float64",
         "type": "float"
        }
       ],
       "ref": "f07b0724-30c9-4d99-8133-3e9339075d11",
       "rows": [
        [
         "0",
         "New York City",
         "252462.547"
        ],
        [
         "1",
         "Los Angeles",
         "173420.181"
        ],
        [
         "2",
         "Seattle",
         "116106.322"
        ],
        [
         "3",
         "San Francisco",
         "109041.12"
        ],
        [
         "4",
         "Philadelphia",
         "108841.749"
        ],
        [
         "5",
         "Houston",
         "63956.1428"
        ],
        [
         "6",
         "Chicago",
         "47820.133"
        ],
        [
         "7",
         "San Diego",
         "47521.029"
        ],
        [
         "8",
         "Jacksonville",
         "44713.183"
        ],
        [
         "9",
         "Detroit",
         "42446.944"
        ]
       ],
       "shape": {
        "columns": 2,
        "rows": 10
       }
      },
      "text/html": [
       "<div>\n",
       "<style scoped>\n",
       "    .dataframe tbody tr th:only-of-type {\n",
       "        vertical-align: middle;\n",
       "    }\n",
       "\n",
       "    .dataframe tbody tr th {\n",
       "        vertical-align: top;\n",
       "    }\n",
       "\n",
       "    .dataframe thead th {\n",
       "        text-align: right;\n",
       "    }\n",
       "</style>\n",
       "<table border=\"1\" class=\"dataframe\">\n",
       "  <thead>\n",
       "    <tr style=\"text-align: right;\">\n",
       "      <th></th>\n",
       "      <th>City</th>\n",
       "      <th>Sales</th>\n",
       "    </tr>\n",
       "  </thead>\n",
       "  <tbody>\n",
       "    <tr>\n",
       "      <th>0</th>\n",
       "      <td>New York City</td>\n",
       "      <td>252462.5470</td>\n",
       "    </tr>\n",
       "    <tr>\n",
       "      <th>1</th>\n",
       "      <td>Los Angeles</td>\n",
       "      <td>173420.1810</td>\n",
       "    </tr>\n",
       "    <tr>\n",
       "      <th>2</th>\n",
       "      <td>Seattle</td>\n",
       "      <td>116106.3220</td>\n",
       "    </tr>\n",
       "    <tr>\n",
       "      <th>3</th>\n",
       "      <td>San Francisco</td>\n",
       "      <td>109041.1200</td>\n",
       "    </tr>\n",
       "    <tr>\n",
       "      <th>4</th>\n",
       "      <td>Philadelphia</td>\n",
       "      <td>108841.7490</td>\n",
       "    </tr>\n",
       "    <tr>\n",
       "      <th>5</th>\n",
       "      <td>Houston</td>\n",
       "      <td>63956.1428</td>\n",
       "    </tr>\n",
       "    <tr>\n",
       "      <th>6</th>\n",
       "      <td>Chicago</td>\n",
       "      <td>47820.1330</td>\n",
       "    </tr>\n",
       "    <tr>\n",
       "      <th>7</th>\n",
       "      <td>San Diego</td>\n",
       "      <td>47521.0290</td>\n",
       "    </tr>\n",
       "    <tr>\n",
       "      <th>8</th>\n",
       "      <td>Jacksonville</td>\n",
       "      <td>44713.1830</td>\n",
       "    </tr>\n",
       "    <tr>\n",
       "      <th>9</th>\n",
       "      <td>Detroit</td>\n",
       "      <td>42446.9440</td>\n",
       "    </tr>\n",
       "  </tbody>\n",
       "</table>\n",
       "</div>"
      ],
      "text/plain": [
       "            City        Sales\n",
       "0  New York City  252462.5470\n",
       "1    Los Angeles  173420.1810\n",
       "2        Seattle  116106.3220\n",
       "3  San Francisco  109041.1200\n",
       "4   Philadelphia  108841.7490\n",
       "5        Houston   63956.1428\n",
       "6        Chicago   47820.1330\n",
       "7      San Diego   47521.0290\n",
       "8   Jacksonville   44713.1830\n",
       "9        Detroit   42446.9440"
      ]
     },
     "execution_count": 33,
     "metadata": {},
     "output_type": "execute_result"
    }
   ],
   "source": [
    "city_sales = df.groupby(['City'])['Sales'].sum().reset_index()\n",
    "top_city_sales = city_sales.sort_values (by='Sales', ascending=False)\n",
    "top_city_sales.head(10).reset_index(drop=True)"
   ]
  },
  {
   "cell_type": "markdown",
   "id": "7afa6d9b",
   "metadata": {},
   "source": [
    "### Bottom Sales by City"
   ]
  },
  {
   "cell_type": "code",
   "execution_count": 34,
   "id": "6e0de6d5",
   "metadata": {},
   "outputs": [
    {
     "data": {
      "application/vnd.microsoft.datawrangler.viewer.v0+json": {
       "columns": [
        {
         "name": "index",
         "rawType": "int64",
         "type": "integer"
        },
        {
         "name": "City",
         "rawType": "object",
         "type": "string"
        },
        {
         "name": "Sales",
         "rawType": "float64",
         "type": "float"
        }
       ],
       "ref": "103ca5b2-807d-4d08-8fe8-3ea40c3f0327",
       "rows": [
        [
         "0",
         "Abilene",
         "1.392"
        ],
        [
         "1",
         "Elyria",
         "1.824"
        ],
        [
         "2",
         "Jupiter",
         "2.064"
        ],
        [
         "3",
         "Pensacola",
         "2.214"
        ],
        [
         "4",
         "Ormond Beach",
         "2.808"
        ],
        [
         "5",
         "San Luis Obispo",
         "3.62"
        ],
        [
         "6",
         "Springdale",
         "4.3"
        ],
        [
         "7",
         "Layton",
         "4.96"
        ],
        [
         "8",
         "Keller",
         "6.0"
        ],
        [
         "9",
         "Missouri City",
         "6.37"
        ]
       ],
       "shape": {
        "columns": 2,
        "rows": 10
       }
      },
      "text/html": [
       "<div>\n",
       "<style scoped>\n",
       "    .dataframe tbody tr th:only-of-type {\n",
       "        vertical-align: middle;\n",
       "    }\n",
       "\n",
       "    .dataframe tbody tr th {\n",
       "        vertical-align: top;\n",
       "    }\n",
       "\n",
       "    .dataframe thead th {\n",
       "        text-align: right;\n",
       "    }\n",
       "</style>\n",
       "<table border=\"1\" class=\"dataframe\">\n",
       "  <thead>\n",
       "    <tr style=\"text-align: right;\">\n",
       "      <th></th>\n",
       "      <th>City</th>\n",
       "      <th>Sales</th>\n",
       "    </tr>\n",
       "  </thead>\n",
       "  <tbody>\n",
       "    <tr>\n",
       "      <th>0</th>\n",
       "      <td>Abilene</td>\n",
       "      <td>1.392</td>\n",
       "    </tr>\n",
       "    <tr>\n",
       "      <th>1</th>\n",
       "      <td>Elyria</td>\n",
       "      <td>1.824</td>\n",
       "    </tr>\n",
       "    <tr>\n",
       "      <th>2</th>\n",
       "      <td>Jupiter</td>\n",
       "      <td>2.064</td>\n",
       "    </tr>\n",
       "    <tr>\n",
       "      <th>3</th>\n",
       "      <td>Pensacola</td>\n",
       "      <td>2.214</td>\n",
       "    </tr>\n",
       "    <tr>\n",
       "      <th>4</th>\n",
       "      <td>Ormond Beach</td>\n",
       "      <td>2.808</td>\n",
       "    </tr>\n",
       "    <tr>\n",
       "      <th>5</th>\n",
       "      <td>San Luis Obispo</td>\n",
       "      <td>3.620</td>\n",
       "    </tr>\n",
       "    <tr>\n",
       "      <th>6</th>\n",
       "      <td>Springdale</td>\n",
       "      <td>4.300</td>\n",
       "    </tr>\n",
       "    <tr>\n",
       "      <th>7</th>\n",
       "      <td>Layton</td>\n",
       "      <td>4.960</td>\n",
       "    </tr>\n",
       "    <tr>\n",
       "      <th>8</th>\n",
       "      <td>Keller</td>\n",
       "      <td>6.000</td>\n",
       "    </tr>\n",
       "    <tr>\n",
       "      <th>9</th>\n",
       "      <td>Missouri City</td>\n",
       "      <td>6.370</td>\n",
       "    </tr>\n",
       "  </tbody>\n",
       "</table>\n",
       "</div>"
      ],
      "text/plain": [
       "              City  Sales\n",
       "0          Abilene  1.392\n",
       "1           Elyria  1.824\n",
       "2          Jupiter  2.064\n",
       "3        Pensacola  2.214\n",
       "4     Ormond Beach  2.808\n",
       "5  San Luis Obispo  3.620\n",
       "6       Springdale  4.300\n",
       "7           Layton  4.960\n",
       "8           Keller  6.000\n",
       "9    Missouri City  6.370"
      ]
     },
     "execution_count": 34,
     "metadata": {},
     "output_type": "execute_result"
    }
   ],
   "source": [
    "bottom_city_sales = city_sales.sort_values (by='Sales', ascending=True)\n",
    "bottom_city_sales.head(10).reset_index(drop=True)"
   ]
  },
  {
   "cell_type": "markdown",
   "id": "18829f96",
   "metadata": {},
   "source": [
    "### Top Sales by State"
   ]
  },
  {
   "cell_type": "code",
   "execution_count": 35,
   "id": "765da357",
   "metadata": {},
   "outputs": [
    {
     "data": {
      "application/vnd.microsoft.datawrangler.viewer.v0+json": {
       "columns": [
        {
         "name": "index",
         "rawType": "int64",
         "type": "integer"
        },
        {
         "name": "State",
         "rawType": "object",
         "type": "string"
        },
        {
         "name": "Sales",
         "rawType": "float64",
         "type": "float"
        }
       ],
       "ref": "fc1ede1a-24f8-4e12-b9be-2a5c2bc68fc1",
       "rows": [
        [
         "0",
         "California",
         "446306.4635"
        ],
        [
         "1",
         "New York",
         "306361.147"
        ],
        [
         "2",
         "Texas",
         "168572.5322"
        ],
        [
         "3",
         "Washington",
         "135206.85"
        ],
        [
         "4",
         "Pennsylvania",
         "116276.65"
        ],
        [
         "5",
         "Florida",
         "88436.532"
        ],
        [
         "6",
         "Illinois",
         "79236.517"
        ],
        [
         "7",
         "Michigan",
         "76136.074"
        ],
        [
         "8",
         "Ohio",
         "75130.35"
        ],
        [
         "9",
         "Virginia",
         "70636.72"
        ]
       ],
       "shape": {
        "columns": 2,
        "rows": 10
       }
      },
      "text/html": [
       "<div>\n",
       "<style scoped>\n",
       "    .dataframe tbody tr th:only-of-type {\n",
       "        vertical-align: middle;\n",
       "    }\n",
       "\n",
       "    .dataframe tbody tr th {\n",
       "        vertical-align: top;\n",
       "    }\n",
       "\n",
       "    .dataframe thead th {\n",
       "        text-align: right;\n",
       "    }\n",
       "</style>\n",
       "<table border=\"1\" class=\"dataframe\">\n",
       "  <thead>\n",
       "    <tr style=\"text-align: right;\">\n",
       "      <th></th>\n",
       "      <th>State</th>\n",
       "      <th>Sales</th>\n",
       "    </tr>\n",
       "  </thead>\n",
       "  <tbody>\n",
       "    <tr>\n",
       "      <th>0</th>\n",
       "      <td>California</td>\n",
       "      <td>446306.4635</td>\n",
       "    </tr>\n",
       "    <tr>\n",
       "      <th>1</th>\n",
       "      <td>New York</td>\n",
       "      <td>306361.1470</td>\n",
       "    </tr>\n",
       "    <tr>\n",
       "      <th>2</th>\n",
       "      <td>Texas</td>\n",
       "      <td>168572.5322</td>\n",
       "    </tr>\n",
       "    <tr>\n",
       "      <th>3</th>\n",
       "      <td>Washington</td>\n",
       "      <td>135206.8500</td>\n",
       "    </tr>\n",
       "    <tr>\n",
       "      <th>4</th>\n",
       "      <td>Pennsylvania</td>\n",
       "      <td>116276.6500</td>\n",
       "    </tr>\n",
       "    <tr>\n",
       "      <th>5</th>\n",
       "      <td>Florida</td>\n",
       "      <td>88436.5320</td>\n",
       "    </tr>\n",
       "    <tr>\n",
       "      <th>6</th>\n",
       "      <td>Illinois</td>\n",
       "      <td>79236.5170</td>\n",
       "    </tr>\n",
       "    <tr>\n",
       "      <th>7</th>\n",
       "      <td>Michigan</td>\n",
       "      <td>76136.0740</td>\n",
       "    </tr>\n",
       "    <tr>\n",
       "      <th>8</th>\n",
       "      <td>Ohio</td>\n",
       "      <td>75130.3500</td>\n",
       "    </tr>\n",
       "    <tr>\n",
       "      <th>9</th>\n",
       "      <td>Virginia</td>\n",
       "      <td>70636.7200</td>\n",
       "    </tr>\n",
       "  </tbody>\n",
       "</table>\n",
       "</div>"
      ],
      "text/plain": [
       "          State        Sales\n",
       "0    California  446306.4635\n",
       "1      New York  306361.1470\n",
       "2         Texas  168572.5322\n",
       "3    Washington  135206.8500\n",
       "4  Pennsylvania  116276.6500\n",
       "5       Florida   88436.5320\n",
       "6      Illinois   79236.5170\n",
       "7      Michigan   76136.0740\n",
       "8          Ohio   75130.3500\n",
       "9      Virginia   70636.7200"
      ]
     },
     "execution_count": 35,
     "metadata": {},
     "output_type": "execute_result"
    }
   ],
   "source": [
    "state_sales = df.groupby(['State'])['Sales'].sum().reset_index()\n",
    "top_sales = state_sales.sort_values(by='Sales', ascending=False)\n",
    "top_sales.head(10).reset_index(drop=True)"
   ]
  },
  {
   "cell_type": "markdown",
   "id": "e4f9f259",
   "metadata": {},
   "source": [
    "### Bottom Sales by State"
   ]
  },
  {
   "cell_type": "code",
   "execution_count": 36,
   "id": "9bf446d1",
   "metadata": {},
   "outputs": [
    {
     "data": {
      "application/vnd.microsoft.datawrangler.viewer.v0+json": {
       "columns": [
        {
         "name": "index",
         "rawType": "int64",
         "type": "integer"
        },
        {
         "name": "State",
         "rawType": "object",
         "type": "string"
        },
        {
         "name": "Sales",
         "rawType": "float64",
         "type": "float"
        }
       ],
       "ref": "dd364449-9b90-4f63-80ee-05b5981b335b",
       "rows": [
        [
         "0",
         "North Dakota",
         "919.91"
        ],
        [
         "1",
         "West Virginia",
         "1209.824"
        ],
        [
         "2",
         "Maine",
         "1270.53"
        ],
        [
         "3",
         "South Dakota",
         "1315.56"
        ],
        [
         "4",
         "Wyoming",
         "1603.136"
        ],
        [
         "5",
         "District of Columbia",
         "2865.02"
        ],
        [
         "6",
         "Kansas",
         "2914.31"
        ],
        [
         "7",
         "Idaho",
         "4382.486"
        ],
        [
         "8",
         "Iowa",
         "4443.56"
        ],
        [
         "9",
         "New Mexico",
         "4783.522"
        ]
       ],
       "shape": {
        "columns": 2,
        "rows": 10
       }
      },
      "text/html": [
       "<div>\n",
       "<style scoped>\n",
       "    .dataframe tbody tr th:only-of-type {\n",
       "        vertical-align: middle;\n",
       "    }\n",
       "\n",
       "    .dataframe tbody tr th {\n",
       "        vertical-align: top;\n",
       "    }\n",
       "\n",
       "    .dataframe thead th {\n",
       "        text-align: right;\n",
       "    }\n",
       "</style>\n",
       "<table border=\"1\" class=\"dataframe\">\n",
       "  <thead>\n",
       "    <tr style=\"text-align: right;\">\n",
       "      <th></th>\n",
       "      <th>State</th>\n",
       "      <th>Sales</th>\n",
       "    </tr>\n",
       "  </thead>\n",
       "  <tbody>\n",
       "    <tr>\n",
       "      <th>0</th>\n",
       "      <td>North Dakota</td>\n",
       "      <td>919.910</td>\n",
       "    </tr>\n",
       "    <tr>\n",
       "      <th>1</th>\n",
       "      <td>West Virginia</td>\n",
       "      <td>1209.824</td>\n",
       "    </tr>\n",
       "    <tr>\n",
       "      <th>2</th>\n",
       "      <td>Maine</td>\n",
       "      <td>1270.530</td>\n",
       "    </tr>\n",
       "    <tr>\n",
       "      <th>3</th>\n",
       "      <td>South Dakota</td>\n",
       "      <td>1315.560</td>\n",
       "    </tr>\n",
       "    <tr>\n",
       "      <th>4</th>\n",
       "      <td>Wyoming</td>\n",
       "      <td>1603.136</td>\n",
       "    </tr>\n",
       "    <tr>\n",
       "      <th>5</th>\n",
       "      <td>District of Columbia</td>\n",
       "      <td>2865.020</td>\n",
       "    </tr>\n",
       "    <tr>\n",
       "      <th>6</th>\n",
       "      <td>Kansas</td>\n",
       "      <td>2914.310</td>\n",
       "    </tr>\n",
       "    <tr>\n",
       "      <th>7</th>\n",
       "      <td>Idaho</td>\n",
       "      <td>4382.486</td>\n",
       "    </tr>\n",
       "    <tr>\n",
       "      <th>8</th>\n",
       "      <td>Iowa</td>\n",
       "      <td>4443.560</td>\n",
       "    </tr>\n",
       "    <tr>\n",
       "      <th>9</th>\n",
       "      <td>New Mexico</td>\n",
       "      <td>4783.522</td>\n",
       "    </tr>\n",
       "  </tbody>\n",
       "</table>\n",
       "</div>"
      ],
      "text/plain": [
       "                  State     Sales\n",
       "0          North Dakota   919.910\n",
       "1         West Virginia  1209.824\n",
       "2                 Maine  1270.530\n",
       "3          South Dakota  1315.560\n",
       "4               Wyoming  1603.136\n",
       "5  District of Columbia  2865.020\n",
       "6                Kansas  2914.310\n",
       "7                 Idaho  4382.486\n",
       "8                  Iowa  4443.560\n",
       "9            New Mexico  4783.522"
      ]
     },
     "execution_count": 36,
     "metadata": {},
     "output_type": "execute_result"
    }
   ],
   "source": [
    "bottom_sales = state_sales.sort_values(by='Sales', ascending=True)\n",
    "bottom_sales.head(10).reset_index(drop=True)"
   ]
  },
  {
   "cell_type": "markdown",
   "id": "c5a73f4a",
   "metadata": {},
   "source": [
    "### State-City Sales"
   ]
  },
  {
   "cell_type": "code",
   "execution_count": 37,
   "id": "1b4f4b8c",
   "metadata": {},
   "outputs": [
    {
     "name": "stdout",
     "output_type": "stream",
     "text": [
      "      State           City      Sales\n",
      "0   Alabama         Auburn   1766.830\n",
      "1   Alabama        Decatur   3374.820\n",
      "2   Alabama       Florence   1997.350\n",
      "3   Alabama         Hoover    525.850\n",
      "4   Alabama     Huntsville   2484.370\n",
      "5   Alabama         Mobile   5462.990\n",
      "6   Alabama     Montgomery   3722.730\n",
      "7   Alabama     Tuscaloosa    175.700\n",
      "8   Arizona       Avondale    946.808\n",
      "9   Arizona  Bullhead City     22.288\n",
      "10  Arizona       Chandler   1067.403\n",
      "11  Arizona        Gilbert   4172.382\n",
      "12  Arizona       Glendale   2917.865\n",
      "13  Arizona           Mesa   4037.740\n",
      "14  Arizona         Peoria   1341.352\n",
      "15  Arizona        Phoenix  11000.257\n",
      "16  Arizona     Scottsdale   1466.307\n",
      "17  Arizona   Sierra Vista     76.072\n",
      "18  Arizona          Tempe   1070.302\n",
      "19  Arizona         Tucson   6313.016\n"
     ]
    }
   ],
   "source": [
    "state_city_sales = df.groupby(['State', 'City'])['Sales'].sum().reset_index()\n",
    "print(state_city_sales.head(20))"
   ]
  },
  {
   "cell_type": "markdown",
   "id": "0d688837",
   "metadata": {},
   "source": [
    "## Product Performance Insight"
   ]
  },
  {
   "cell_type": "markdown",
   "id": "3705a8ad",
   "metadata": {},
   "source": [
    "### Category of Products"
   ]
  },
  {
   "cell_type": "code",
   "execution_count": 38,
   "id": "fd17f676",
   "metadata": {},
   "outputs": [
    {
     "name": "stdout",
     "output_type": "stream",
     "text": [
      "['Furniture' 'Office Supplies' 'Technology']\n"
     ]
    }
   ],
   "source": [
    "products = df['Category'].unique()\n",
    "print(products)"
   ]
  },
  {
   "cell_type": "markdown",
   "id": "95261b29",
   "metadata": {},
   "source": [
    "### List of  Sub-Category"
   ]
  },
  {
   "cell_type": "code",
   "execution_count": 39,
   "id": "55d360b7",
   "metadata": {},
   "outputs": [
    {
     "name": "stdout",
     "output_type": "stream",
     "text": [
      "['Bookcases' 'Chairs' 'Labels' 'Tables' 'Storage' 'Furnishings' 'Art'\n",
      " 'Phones' 'Binders' 'Appliances' 'Paper' 'Accessories' 'Envelopes'\n",
      " 'Fasteners' 'Supplies' 'Machines' 'Copiers']\n"
     ]
    }
   ],
   "source": [
    "product_subcategory = df['Sub-Category'].unique()\n",
    "print(product_subcategory)     "
   ]
  },
  {
   "cell_type": "markdown",
   "id": "65f5aeab",
   "metadata": {},
   "source": [
    "### Total Sub-Category for @ Category"
   ]
  },
  {
   "cell_type": "code",
   "execution_count": 40,
   "id": "67925599",
   "metadata": {},
   "outputs": [
    {
     "name": "stdout",
     "output_type": "stream",
     "text": [
      "          Category  Sub-Category\n",
      "1  Office Supplies             9\n",
      "0        Furniture             4\n",
      "2       Technology             4\n"
     ]
    }
   ],
   "source": [
    "subcategory_count = df.groupby('Category')['Sub-Category'].nunique().reset_index()\n",
    "subcategory_count = subcategory_count.sort_values(by='Sub-Category', ascending = False)\n",
    "print(subcategory_count)"
   ]
  },
  {
   "cell_type": "markdown",
   "id": "183c4499",
   "metadata": {},
   "source": [
    "### Sales by Category & Sub- Category"
   ]
  },
  {
   "cell_type": "code",
   "execution_count": 41,
   "id": "4d2c1c8a",
   "metadata": {},
   "outputs": [
    {
     "name": "stdout",
     "output_type": "stream",
     "text": [
      "           Category Sub-Category        Sales\n",
      "16       Technology       Phones  327782.4480\n",
      "1         Furniture       Chairs  322822.7310\n",
      "11  Office Supplies      Storage  219343.3920\n",
      "3         Furniture       Tables  202810.6280\n",
      "6   Office Supplies      Binders  200028.7850\n",
      "15       Technology     Machines  189238.6310\n",
      "13       Technology  Accessories  164186.7000\n",
      "14       Technology      Copiers  146248.0940\n",
      "0         Furniture    Bookcases  113813.1987\n",
      "4   Office Supplies   Appliances  104618.4030\n",
      "2         Furniture  Furnishings   89212.0180\n",
      "10  Office Supplies        Paper   76828.3040\n",
      "12  Office Supplies     Supplies   46420.3080\n",
      "5   Office Supplies          Art   26705.4100\n",
      "7   Office Supplies    Envelopes   16128.0460\n",
      "9   Office Supplies       Labels   12347.7260\n",
      "8   Office Supplies    Fasteners    3001.9600\n"
     ]
    }
   ],
   "source": [
    "subcategory_count_sales = df.groupby(['Category', 'Sub-Category'])['Sales'].sum().reset_index()\n",
    "subcategory_count_sales = subcategory_count_sales.sort_values(by='Sales', ascending = False)\n",
    "\n",
    "print(subcategory_count_sales)"
   ]
  },
  {
   "cell_type": "markdown",
   "id": "32ac806b",
   "metadata": {},
   "source": [
    "### Top Sales by Category"
   ]
  },
  {
   "cell_type": "code",
   "execution_count": 42,
   "id": "8d6c859b",
   "metadata": {},
   "outputs": [
    {
     "name": "stdout",
     "output_type": "stream",
     "text": [
      "          Category        Sales\n",
      "0       Technology  827455.8730\n",
      "1        Furniture  728658.5757\n",
      "2  Office Supplies  705422.3340\n"
     ]
    }
   ],
   "source": [
    "\n",
    "product_category = df.groupby(['Category'])['Sales'].sum().reset_index()\n",
    "top_product_category = product_category.sort_values(by='Sales', ascending = False)\n",
    "print(top_product_category.reset_index(drop=True))"
   ]
  },
  {
   "cell_type": "markdown",
   "id": "5d120018",
   "metadata": {},
   "source": [
    "### Sales by Category visual"
   ]
  },
  {
   "cell_type": "code",
   "execution_count": 43,
   "id": "5bc85084",
   "metadata": {},
   "outputs": [
    {
     "data": {
      "image/png": "[encoded data removed]",
      "text/plain": [
       "<Figure size 640x480 with 1 Axes>"
      ]
     },
     "metadata": {},
     "output_type": "display_data"
    }
   ],
   "source": [
    "plt.pie(top_product_category['Sales'], labels=top_product_category['Category'], autopct='%1.1f%%')\n",
    "plt.title('Sales Distribution by Product Category')\n",
    "plt.show()\n"
   ]
  },
  {
   "cell_type": "markdown",
   "id": "40bae951",
   "metadata": {},
   "source": [
    "### Sales by Sub-Caregory Visual"
   ]
  },
  {
   "cell_type": "code",
   "execution_count": 44,
   "id": "abc3caa9",
   "metadata": {},
   "outputs": [
    {
     "data": {
      "text/plain": [
       "Text(0.5, 1.0, 'Sales Distribution by Product Sub-Category')"
      ]
     },
     "execution_count": 44,
     "metadata": {},
     "output_type": "execute_result"
    },
    {
     "data": {
      "image/png": "[encoded data removed]",
      "text/plain": [
       "<Figure size 640x480 with 1 Axes>"
      ]
     },
     "metadata": {},
     "output_type": "display_data"
    }
   ],
   "source": [
    "subcategory_count_sales = subcategory_count_sales.sort_values(by='Sales', ascending = True)\n",
    "plt.barh(subcategory_count_sales['Sub-Category'], subcategory_count_sales['Sales'])\n",
    "plt.title('Sales Distribution by Product Sub-Category')"
   ]
  },
  {
   "cell_type": "markdown",
   "id": "d00baa9f",
   "metadata": {},
   "source": [
    "## Comprehensive  Sales Analysis"
   ]
  },
  {
   "cell_type": "code",
   "execution_count": 45,
   "id": "9f52c0ce",
   "metadata": {},
   "outputs": [
    {
     "data": {
      "application/vnd.microsoft.datawrangler.viewer.v0+json": {
       "columns": [
        {
         "name": "index",
         "rawType": "int64",
         "type": "integer"
        },
        {
         "name": "Year",
         "rawType": "int32",
         "type": "integer"
        },
        {
         "name": "Total Sales",
         "rawType": "float64",
         "type": "float"
        }
       ],
       "ref": "b2c06409-256f-4147-89c7-6d342c9185f8",
       "rows": [
        [
         "0",
         "2015",
         "479856.2081"
        ],
        [
         "1",
         "2016",
         "459436.0054"
        ],
        [
         "2",
         "2017",
         "600192.55"
        ],
        [
         "3",
         "2018",
         "722052.0192"
        ]
       ],
       "shape": {
        "columns": 2,
        "rows": 4
       }
      },
      "text/html": [
       "<div>\n",
       "<style scoped>\n",
       "    .dataframe tbody tr th:only-of-type {\n",
       "        vertical-align: middle;\n",
       "    }\n",
       "\n",
       "    .dataframe tbody tr th {\n",
       "        vertical-align: top;\n",
       "    }\n",
       "\n",
       "    .dataframe thead th {\n",
       "        text-align: right;\n",
       "    }\n",
       "</style>\n",
       "<table border=\"1\" class=\"dataframe\">\n",
       "  <thead>\n",
       "    <tr style=\"text-align: right;\">\n",
       "      <th></th>\n",
       "      <th>Year</th>\n",
       "      <th>Total Sales</th>\n",
       "    </tr>\n",
       "  </thead>\n",
       "  <tbody>\n",
       "    <tr>\n",
       "      <th>0</th>\n",
       "      <td>2015</td>\n",
       "      <td>479856.2081</td>\n",
       "    </tr>\n",
       "    <tr>\n",
       "      <th>1</th>\n",
       "      <td>2016</td>\n",
       "      <td>459436.0054</td>\n",
       "    </tr>\n",
       "    <tr>\n",
       "      <th>2</th>\n",
       "      <td>2017</td>\n",
       "      <td>600192.5500</td>\n",
       "    </tr>\n",
       "    <tr>\n",
       "      <th>3</th>\n",
       "      <td>2018</td>\n",
       "      <td>722052.0192</td>\n",
       "    </tr>\n",
       "  </tbody>\n",
       "</table>\n",
       "</div>"
      ],
      "text/plain": [
       "   Year  Total Sales\n",
       "0  2015  479856.2081\n",
       "1  2016  459436.0054\n",
       "2  2017  600192.5500\n",
       "3  2018  722052.0192"
      ]
     },
     "execution_count": 45,
     "metadata": {},
     "output_type": "execute_result"
    }
   ],
   "source": [
    "\n",
    "df['Order Date'] = pd.to_datetime(df['Order Date'], dayfirst = True)\n",
    "yearly_sales = df.groupby(df['Order Date'].dt.year)['Sales'].sum()\n",
    "yearly_sales = yearly_sales.reset_index()\n",
    "yearly_sales = yearly_sales.rename(columns={'Order Date' : 'Year', 'Sales': 'Total Sales'})\n",
    "\n",
    "yearly_sales.head()"
   ]
  },
  {
   "cell_type": "code",
   "execution_count": 46,
   "id": "00b18946",
   "metadata": {},
   "outputs": [
    {
     "data": {
      "text/plain": [
       "Text(0.5, 1.0, 'Total sales by Year')"
      ]
     },
     "execution_count": 46,
     "metadata": {},
     "output_type": "execute_result"
    },
    {
     "data": {
      "image/png": "[encoded data removed]",
      "text/plain": [
       "<Figure size 640x480 with 1 Axes>"
      ]
     },
     "metadata": {},
     "output_type": "display_data"
    }
   ],
   "source": [
    "\n",
    "plt.bar(yearly_sales['Year'], yearly_sales['Total Sales'])\n",
    "plt.title('Total sales by Year')\n"
   ]
  },
  {
   "cell_type": "markdown",
   "id": "0c804f1e",
   "metadata": {},
   "source": [
    "## Tracking Sales Analysis"
   ]
  },
  {
   "cell_type": "markdown",
   "id": "7f4406fc",
   "metadata": {},
   "source": [
    "### Yearly sales"
   ]
  },
  {
   "cell_type": "code",
   "execution_count": 47,
   "id": "1e5a02d7",
   "metadata": {},
   "outputs": [
    {
     "data": {
      "text/plain": [
       "Text(0.5, 1.0, 'Total sales by Year')"
      ]
     },
     "execution_count": 47,
     "metadata": {},
     "output_type": "execute_result"
    },
    {
     "data": {
      "image/png": "[encoded data removed]",
      "text/plain": [
       "<Figure size 640x480 with 1 Axes>"
      ]
     },
     "metadata": {},
     "output_type": "display_data"
    }
   ],
   "source": [
    "plt.plot(yearly_sales['Year'], yearly_sales['Total Sales'], marker='o', linestyle='-',color= 'green')\n",
    "plt.title('Total sales by Year')"
   ]
  },
  {
   "cell_type": "markdown",
   "id": "abbbcf99",
   "metadata": {},
   "source": [
    "### Total Quartely Sales"
   ]
  },
  {
   "cell_type": "code",
   "execution_count": 48,
   "id": "8f0deee8",
   "metadata": {},
   "outputs": [
    {
     "name": "stderr",
     "output_type": "stream",
     "text": [
      "C:\\Users\\HomePC\\AppData\\Local\\Temp\\ipykernel_32580\\3916797278.py:3: FutureWarning: 'Q' is deprecated and will be removed in a future version, please use 'QE' instead.\n",
      "  quarterly_sales = year_sales.resample('Q', on='Order Date')['Sales'].sum()\n"
     ]
    },
    {
     "data": {
      "application/vnd.microsoft.datawrangler.viewer.v0+json": {
       "columns": [
        {
         "name": "index",
         "rawType": "int64",
         "type": "integer"
        },
        {
         "name": "Quarter",
         "rawType": "datetime64[ns]",
         "type": "datetime"
        },
        {
         "name": "Total Sales",
         "rawType": "float64",
         "type": "float"
        }
       ],
       "ref": "634beb57-7735-4a5c-a130-f482fedb65c5",
       "rows": [
        [
         "0",
         "2018-03-31 00:00:00",
         "122260.8842"
        ],
        [
         "1",
         "2018-06-30 00:00:00",
         "127558.62"
        ],
        [
         "2",
         "2018-09-30 00:00:00",
         "193815.84"
        ],
        [
         "3",
         "2018-12-31 00:00:00",
         "278416.675"
        ]
       ],
       "shape": {
        "columns": 2,
        "rows": 4
       }
      },
      "text/html": [
       "<div>\n",
       "<style scoped>\n",
       "    .dataframe tbody tr th:only-of-type {\n",
       "        vertical-align: middle;\n",
       "    }\n",
       "\n",
       "    .dataframe tbody tr th {\n",
       "        vertical-align: top;\n",
       "    }\n",
       "\n",
       "    .dataframe thead th {\n",
       "        text-align: right;\n",
       "    }\n",
       "</style>\n",
       "<table border=\"1\" class=\"dataframe\">\n",
       "  <thead>\n",
       "    <tr style=\"text-align: right;\">\n",
       "      <th></th>\n",
       "      <th>Quarter</th>\n",
       "      <th>Total Sales</th>\n",
       "    </tr>\n",
       "  </thead>\n",
       "  <tbody>\n",
       "    <tr>\n",
       "      <th>0</th>\n",
       "      <td>2018-03-31</td>\n",
       "      <td>122260.8842</td>\n",
       "    </tr>\n",
       "    <tr>\n",
       "      <th>1</th>\n",
       "      <td>2018-06-30</td>\n",
       "      <td>127558.6200</td>\n",
       "    </tr>\n",
       "    <tr>\n",
       "      <th>2</th>\n",
       "      <td>2018-09-30</td>\n",
       "      <td>193815.8400</td>\n",
       "    </tr>\n",
       "    <tr>\n",
       "      <th>3</th>\n",
       "      <td>2018-12-31</td>\n",
       "      <td>278416.6750</td>\n",
       "    </tr>\n",
       "  </tbody>\n",
       "</table>\n",
       "</div>"
      ],
      "text/plain": [
       "     Quarter  Total Sales\n",
       "0 2018-03-31  122260.8842\n",
       "1 2018-06-30  127558.6200\n",
       "2 2018-09-30  193815.8400\n",
       "3 2018-12-31  278416.6750"
      ]
     },
     "execution_count": 48,
     "metadata": {},
     "output_type": "execute_result"
    }
   ],
   "source": [
    "df['Order Date'] = pd.to_datetime(df['Order Date'], dayfirst=True)\n",
    "year_sales = df[df['Order Date'].dt.year == 2018]\n",
    "quarterly_sales = year_sales.resample('Q', on='Order Date')['Sales'].sum()\n",
    "quarterly_sales = quarterly_sales.reset_index()\n",
    "quarterly_sales = quarterly_sales.rename(columns = {'Order Date': 'Quarter', 'Sales' : 'Total Sales'})\n",
    "\n",
    "quarterly_sales.head()"
   ]
  },
  {
   "cell_type": "code",
   "execution_count": 49,
   "id": "54f0dd94",
   "metadata": {},
   "outputs": [
    {
     "data": {
      "image/png": "[encoded data removed]",
      "text/plain": [
       "<Figure size 640x480 with 1 Axes>"
      ]
     },
     "metadata": {},
     "output_type": "display_data"
    }
   ],
   "source": [
    "plt.plot(quarterly_sales['Quarter'], quarterly_sales['Total Sales'], marker = 'o', linestyle = '--')\n",
    "\n",
    "plt.tight_layout()\n",
    "plt.xticks(rotation=75)\n",
    "plt.title('Quartely sales Amount')\n",
    "plt.show()"
   ]
  },
  {
   "cell_type": "markdown",
   "id": "1b9fda27",
   "metadata": {},
   "source": [
    "### Monthly Sales"
   ]
  },
  {
   "cell_type": "code",
   "execution_count": 50,
   "id": "e7c763f5",
   "metadata": {},
   "outputs": [
    {
     "name": "stderr",
     "output_type": "stream",
     "text": [
      "C:\\Users\\HomePC\\AppData\\Local\\Temp\\ipykernel_32580\\488581346.py:3: FutureWarning: 'M' is deprecated and will be removed in a future version, please use 'ME' instead.\n",
      "  monthly_sales = yearly_sales.resample('M', on = 'Order Date')['Sales'].sum()\n"
     ]
    },
    {
     "data": {
      "text/plain": [
       "<bound method NDFrame.head of         Month  Total Monthly Sales\n",
       "0  2018-01-31           43476.4740\n",
       "1  2018-02-28           19920.9974\n",
       "2  2018-03-31           58863.4128\n",
       "3  2018-04-30           35541.9101\n",
       "4  2018-05-31           43825.9822\n",
       "5  2018-06-30           48190.7277\n",
       "6  2018-07-31           44825.1040\n",
       "7  2018-08-31           62837.8480\n",
       "8  2018-09-30           86152.8880\n",
       "9  2018-10-31           77448.1312\n",
       "10 2018-11-30          117938.1550\n",
       "11 2018-12-31           83030.3888>"
      ]
     },
     "execution_count": 50,
     "metadata": {},
     "output_type": "execute_result"
    }
   ],
   "source": [
    "df['Order Date'] = pd.to_datetime(df['Order Date'], dayfirst = True)\n",
    "yearly_sales = df[df['Order Date'].dt.year == 2018]\n",
    "monthly_sales = yearly_sales.resample('M', on = 'Order Date')['Sales'].sum()\n",
    "monthly_sales = monthly_sales.reset_index()\n",
    "monthly_sales = monthly_sales.rename(columns={'Order Date':'Month', 'Sales' : 'Total Monthly Sales'})\n",
    "\n",
    "monthly_sales.head"
   ]
  },
  {
   "cell_type": "code",
   "execution_count": 51,
   "id": "a5d85b11",
   "metadata": {},
   "outputs": [
    {
     "data": {
      "text/plain": [
       "Text(0.5, 1.0, 'Monthly Sales Trend')"
      ]
     },
     "execution_count": 51,
     "metadata": {},
     "output_type": "execute_result"
    },
    {
     "data": {
      "image/png": "[encoded data removed]",
      "text/plain": [
       "<Figure size 640x480 with 1 Axes>"
      ]
     },
     "metadata": {},
     "output_type": "display_data"
    }
   ],
   "source": [
    "plt.plot(monthly_sales['Month'], monthly_sales['Total Monthly Sales'], marker = 'o', linestyle = '--')\n",
    "plt.title('Monthly Sales Trend')\n",
    "     "
   ]
  }
 ],
 "metadata": {
  "kernelspec": {
   "display_name": "base",
   "language": "python",
   "name": "python3"
  },
  "language_info": {
   "codemirror_mode": {
    "name": "ipython",
    "version": 3
   },
   "file_extension": ".py",
   "mimetype": "text/x-python",
   "name": "python",
   "nbconvert_exporter": "python",
   "pygments_lexer": "ipython3",
   "version": "3.12.7"
  }
 },
 "nbformat": 4,
 "nbformat_minor": 5
}
